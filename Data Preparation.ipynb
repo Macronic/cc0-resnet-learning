{
 "cells": [
  {
   "cell_type": "markdown",
   "id": "63bc0fc0-4236-4c71-b4c6-9edd4e4b6623",
   "metadata": {},
   "source": [
    "# Data Preparation\n",
    "\n",
    "In this notebook, we'll read the joined metadata file and do some data preprocessing to get it ready for the ResNet to be trained on.\n",
    "To see the process the decisions were made, see Data Exploration notebook."
   ]
  },
  {
   "cell_type": "code",
   "execution_count": null,
   "id": "526f01ac-ef27-484f-990a-8fb063df5f7f",
   "metadata": {},
   "outputs": [],
   "source": []
  }
 ],
 "metadata": {
  "kernelspec": {
   "display_name": "Python 3 (ipykernel)",
   "language": "python",
   "name": "python3"
  },
  "language_info": {
   "codemirror_mode": {
    "name": "ipython",
    "version": 3
   },
   "file_extension": ".py",
   "mimetype": "text/x-python",
   "name": "python",
   "nbconvert_exporter": "python",
   "pygments_lexer": "ipython3",
   "version": "3.11.6"
  }
 },
 "nbformat": 4,
 "nbformat_minor": 5
}
