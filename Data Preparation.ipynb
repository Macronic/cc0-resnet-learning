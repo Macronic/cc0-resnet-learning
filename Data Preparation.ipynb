{
 "cells": [
  {
   "cell_type": "markdown",
   "id": "63bc0fc0-4236-4c71-b4c6-9edd4e4b6623",
   "metadata": {},
   "source": [
    "# Data Preparation\n",
    "\n",
    "In this notebook, we'll read the joined metadata file and do some data preprocessing to get it ready for the ResNet to be trained on.\n",
    "To see the process the decisions were made, see Data Exploration notebook."
   ]
  },
  {
   "cell_type": "markdown",
   "id": "e025695f-e772-4fdd-994a-0edd70fa91f9",
   "metadata": {},
   "source": [
    "### Constants and imports"
   ]
  },
  {
   "cell_type": "code",
   "execution_count": 1,
   "id": "526f01ac-ef27-484f-990a-8fb063df5f7f",
   "metadata": {},
   "outputs": [],
   "source": [
    "import os\n",
    "import pandas as pd\n",
    "from tqdm.notebook import tqdm\n",
    "\n",
    "METADATA_DIRECTORY = 'metadata'\n",
    "JOINED_METADATA_FILE = os.path.join(METADATA_DIRECTORY, 'metadata_joined.csv')\n",
    "OUTPUT_FILE = os.path.join(METADATA_DIRECTORY, 'dataset.csv')"
   ]
  },
  {
   "cell_type": "markdown",
   "id": "1e8afece-7c6f-4729-bba1-be6f1fff839c",
   "metadata": {},
   "source": [
    "### Loading the metadata"
   ]
  },
  {
   "cell_type": "code",
   "execution_count": 2,
   "id": "e506b27d-ff0c-49f8-9c6a-0d13b5fc0aef",
   "metadata": {},
   "outputs": [],
   "source": [
    "df = pd.read_csv(JOINED_METADATA_FILE)\n"
   ]
  },
  {
   "cell_type": "markdown",
   "id": "29e95441-b9da-4dcb-81ba-cfd86207fe54",
   "metadata": {},
   "source": [
    "### Setting up 'class' column, based on culture"
   ]
  },
  {
   "cell_type": "markdown",
   "id": "8cd04321-90de-4d27-9c78-8b44b50b3ff6",
   "metadata": {},
   "source": [
    "#### Override cache values"
   ]
  },
  {
   "cell_type": "code",
   "execution_count": 3,
   "id": "b764e443-0bfa-44bf-83bf-4e65683ab295",
   "metadata": {},
   "outputs": [],
   "source": [
    "map_cache = { # I've iterated a lot on this cache, to minimize false values and unknowns\n",
    "    'America': 'United States',\n",
    "    'American': 'United States',\n",
    "    'Flanders': 'Flanders',\n",
    "    'Venetian': 'Italy',\n",
    "    'Florentine': 'Italy',\n",
    "    'Tuscan': 'Italy',\n",
    "    'Flemings': 'Flemings',\n",
    "    'Flemish': 'Flemings',\n",
    "    'Milanese': 'Italy',\n",
    "    'Genoese': 'Italy',\n",
    "    'Eastern India': 'Eastern India',\n",
    "    'Mughal India': 'Mughal India',\n",
    "    'Sardinia': 'Italy',\n",
    "    'Byzantium': 'Byzantium',\n",
    "    'Byzantium (style of)': 'Byzantium',\n",
    "    'Bohemia': 'Czechia',\n",
    "    'North Italy': 'Italy',\n",
    "    'Ferrarese': 'Italy',\n",
    "    'Sienese': 'Italy',\n",
    "    'North coast of Peru': 'Peru',\n",
    "    'Frankish': 'France',\n",
    "    'Western India': 'Western India',\n",
    "    'South German': 'Germany',\n",
    "    'Italy(?)': 'Italy',\n",
    "    'Chinese': 'China',\n",
    "    'Netherlandish': 'Netherlands',\n",
    "    'Austrian': 'Austria',\n",
    "    'Bohemian': 'Czechia',\n",
    "    'Paduan': 'Italy',\n",
    "    'Veronese': 'Italy',\n",
    "    'Southern France': 'France',\n",
    "    'Japanese': 'Japan',\n",
    "    'Greek': 'Greece',\n",
    "    'Bolognese': 'Italy',\n",
    "    'Mantuan': 'Italy',\n",
    "    'North Italian': 'Italy',\n",
    "    'Norwegian': 'Norway',\n",
    "    'Canadian': 'Canada',\n",
    "    'Belgian': 'Belgium',\n",
    "    'Nuremberg': 'Germany',\n",
    "    'Turkey': 'Turkey',\n",
    "    'Swedish': 'Sweden'\n",
    "}"
   ]
  },
  {
   "cell_type": "markdown",
   "id": "a02e73bd-1be9-4fa4-8a9f-2bccdf38bf6c",
   "metadata": {},
   "source": [
    "#### Mapping functions"
   ]
  },
  {
   "cell_type": "code",
   "execution_count": 4,
   "id": "60a6ad5a-1fe6-42e2-a30d-9fc19eda5f28",
   "metadata": {},
   "outputs": [],
   "source": [
    "country_names = [x.name for x in list(pycountry.countries)] + [x.name for x in list(pycountry.historic_countries)]\n",
    "\n",
    "def attempt_raw_mapping(x):\n",
    "    if x in map_cache:\n",
    "        return map_cache[x]\n",
    "    for name in country_names:\n",
    "        if x == name:\n",
    "            map_cache[x] = name\n",
    "            return name\n",
    "    y = x.split(',')[0]\n",
    "    if y in map_cache:\n",
    "        map_cache[x] = map_cache[y]\n",
    "        return map_cache[y]\n",
    "    for name in country_names:\n",
    "        if x == name:\n",
    "            map_cache[x] = name\n",
    "            map_cache[y] = name\n",
    "            return name\n",
    "    return None\n",
    "\n",
    "def attempt_fuzzy_mapping(x): \n",
    "    if x in map_cache:\n",
    "        return map_cache[x]\n",
    "    try:\n",
    "        result = pycountry.countries.search_fuzzy(x)[0]\n",
    "        if 'country' in result:\n",
    "            result = result.country.name\n",
    "        else:\n",
    "            result = result.name\n",
    "        map_cache[x] = result\n",
    "        return result\n",
    "    except:\n",
    "        try:\n",
    "            result = pycountry.historic_countries.search_fuzzy(x)[0]\n",
    "            if 'country' in result:\n",
    "                result = result.country.name\n",
    "            else:\n",
    "                result = result.name\n",
    "            map_cache[x] = result\n",
    "            return result\n",
    "        except:\n",
    "            y = x.split(',')[0]\n",
    "            if y in map_cache:\n",
    "                map_cache[x] = map_cache[y]\n",
    "                return map_cache[y]\n",
    "            try:\n",
    "                result = pycountry.countries.search_fuzzy(y)[0]\n",
    "                if 'country' in result:\n",
    "                    result = result.country.name\n",
    "                else:\n",
    "                    result = result.name\n",
    "                map_cache[x] = result\n",
    "                return result\n",
    "            except:\n",
    "                try:\n",
    "                    result = pycountry.historic_countries.search_fuzzy(y)[0]\n",
    "                    if 'country' in result:\n",
    "                        result = result.country.name\n",
    "                    else:\n",
    "                        result = result.name\n",
    "                    map_cache[x] = result\n",
    "                    return result\n",
    "                except:\n",
    "                    map_cache[x] = 'unknown'\n",
    "                    return 'unknown'\n",
    "    map_cache[x] = 'unknown'\n",
    "    return 'unknown'\n",
    "\n",
    "def mapping(x):\n",
    "    x = str(x)\n",
    "    raw = attempt_raw_mapping(x)\n",
    "    if raw is not None:\n",
    "        return raw\n",
    "    \n",
    "    fuzzy = attempt_fuzzy_mapping(x)\n",
    "    return fuzzy\n",
    "\n",
    "tqdm.pandas()"
   ]
  },
  {
   "cell_type": "markdown",
   "id": "ef101fc1-c4b9-47d9-8fe9-75959e134249",
   "metadata": {},
   "source": [
    "#### Running mapping"
   ]
  },
  {
   "cell_type": "code",
   "execution_count": 5,
   "id": "6242f73b-3699-4c3e-b7c1-948aad772964",
   "metadata": {},
   "outputs": [
    {
     "data": {
      "application/vnd.jupyter.widget-view+json": {
       "model_id": "92cf848fe65148679f8fb31ba60f4b04",
       "version_major": 2,
       "version_minor": 0
      },
      "text/plain": [
       "  0%|          | 0/61621 [00:00<?, ?it/s]"
      ]
     },
     "metadata": {},
     "output_type": "display_data"
    },
    {
     "name": "stdout",
     "output_type": "stream",
     "text": [
      "SubdivisionHierarchy(code='GB-ENG', country_code='GB', name='England', parent_code=None, type='Country')\n",
      "SubdivisionHierarchy(code='GB-ENG', country_code='GB', name='England', parent_code=None, type='Country')\n",
      "SubdivisionHierarchy(code='GB-ENG', country_code='GB', name='England', parent_code=None, type='Country')\n",
      "SubdivisionHierarchy(code='MX-MEX', country_code='MX', name='México', parent_code=None, type='State')\n",
      "SubdivisionHierarchy(code='MX-MEX', country_code='MX', name='México', parent_code=None, type='State')\n",
      "SubdivisionHierarchy(code='US-CA', country_code='US', name='California', parent_code=None, type='State')\n",
      "SubdivisionHierarchy(code='MX-MEX', country_code='MX', name='México', parent_code=None, type='State')\n",
      "SubdivisionHierarchy(code='US-CA', country_code='US', name='California', parent_code=None, type='State')\n",
      "SubdivisionHierarchy(code='MX-MEX', country_code='MX', name='México', parent_code=None, type='State')\n",
      "SubdivisionHierarchy(code='MX-MEX', country_code='MX', name='México', parent_code=None, type='State')\n",
      "SubdivisionHierarchy(code='MX-MEX', country_code='MX', name='México', parent_code=None, type='State')\n",
      "SubdivisionHierarchy(code='MX-MEX', country_code='MX', name='México', parent_code=None, type='State')\n",
      "SubdivisionHierarchy(code='GT-GU', country_code='GT', name='Guatemala', parent_code=None, type='Department')\n",
      "SubdivisionHierarchy(code='MX-MEX', country_code='MX', name='México', parent_code=None, type='State')\n",
      "SubdivisionHierarchy(code='US-CA', country_code='US', name='California', parent_code=None, type='State')\n",
      "SubdivisionHierarchy(code='US-CA', country_code='US', name='California', parent_code=None, type='State')\n",
      "SubdivisionHierarchy(code='GT-GU', country_code='GT', name='Guatemala', parent_code=None, type='Department')\n",
      "SubdivisionHierarchy(code='MX-MEX', country_code='MX', name='México', parent_code=None, type='State')\n",
      "SubdivisionHierarchy(code='MX-MEX', country_code='MX', name='México', parent_code=None, type='State')\n",
      "SubdivisionHierarchy(code='US-CA', country_code='US', name='California', parent_code=None, type='State')\n",
      "SubdivisionHierarchy(code='MX-MEX', country_code='MX', name='México', parent_code=None, type='State')\n",
      "SubdivisionHierarchy(code='MX-MEX', country_code='MX', name='México', parent_code=None, type='State')\n",
      "SubdivisionHierarchy(code='MX-MEX', country_code='MX', name='México', parent_code=None, type='State')\n",
      "SubdivisionHierarchy(code='MX-MEX', country_code='MX', name='México', parent_code=None, type='State')\n",
      "SubdivisionHierarchy(code='MX-MEX', country_code='MX', name='México', parent_code=None, type='State')\n",
      "SubdivisionHierarchy(code='MX-MEX', country_code='MX', name='México', parent_code=None, type='State')\n",
      "SubdivisionHierarchy(code='MX-MEX', country_code='MX', name='México', parent_code=None, type='State')\n",
      "SubdivisionHierarchy(code='US-CA', country_code='US', name='California', parent_code=None, type='State')\n",
      "SubdivisionHierarchy(code='GB-ENG', country_code='GB', name='England', parent_code=None, type='Country')\n",
      "SubdivisionHierarchy(code='MX-MEX', country_code='MX', name='México', parent_code=None, type='State')\n",
      "SubdivisionHierarchy(code='PA-8', country_code='PA', name='Panamá', parent_code=None, type='Province')\n",
      "SubdivisionHierarchy(code='GB-SCT', country_code='GB', name='Scotland', parent_code=None, type='Country')\n",
      "SubdivisionHierarchy(code='MX-MEX', country_code='MX', name='México', parent_code=None, type='State')\n",
      "SubdivisionHierarchy(code='MX-MEX', country_code='MX', name='México', parent_code=None, type='State')\n",
      "SubdivisionHierarchy(code='MX-MEX', country_code='MX', name='México', parent_code=None, type='State')\n",
      "SubdivisionHierarchy(code='MX-MEX', country_code='MX', name='México', parent_code=None, type='State')\n",
      "SubdivisionHierarchy(code='US-CA', country_code='US', name='California', parent_code=None, type='State')\n",
      "SubdivisionHierarchy(code='US-CA', country_code='US', name='California', parent_code=None, type='State')\n",
      "SubdivisionHierarchy(code='PA-8', country_code='PA', name='Panamá', parent_code=None, type='Province')\n",
      "SubdivisionHierarchy(code='MX-MEX', country_code='MX', name='México', parent_code=None, type='State')\n",
      "SubdivisionHierarchy(code='MX-MEX', country_code='MX', name='México', parent_code=None, type='State')\n",
      "SubdivisionHierarchy(code='US-CA', country_code='US', name='California', parent_code=None, type='State')\n",
      "SubdivisionHierarchy(code='MX-MEX', country_code='MX', name='México', parent_code=None, type='State')\n",
      "SubdivisionHierarchy(code='GT-GU', country_code='GT', name='Guatemala', parent_code=None, type='Department')\n",
      "SubdivisionHierarchy(code='MX-MEX', country_code='MX', name='México', parent_code=None, type='State')\n",
      "SubdivisionHierarchy(code='MX-MEX', country_code='MX', name='México', parent_code=None, type='State')\n",
      "SubdivisionHierarchy(code='MX-MEX', country_code='MX', name='México', parent_code=None, type='State')\n",
      "SubdivisionHierarchy(code='MX-MEX', country_code='MX', name='México', parent_code=None, type='State')\n",
      "SubdivisionHierarchy(code='MX-MEX', country_code='MX', name='México', parent_code=None, type='State')\n",
      "SubdivisionHierarchy(code='MX-MEX', country_code='MX', name='México', parent_code=None, type='State')\n",
      "SubdivisionHierarchy(code='US-CA', country_code='US', name='California', parent_code=None, type='State')\n",
      "SubdivisionHierarchy(code='MX-MEX', country_code='MX', name='México', parent_code=None, type='State')\n",
      "SubdivisionHierarchy(code='MX-MEX', country_code='MX', name='México', parent_code=None, type='State')\n",
      "SubdivisionHierarchy(code='MX-MEX', country_code='MX', name='México', parent_code=None, type='State')\n",
      "SubdivisionHierarchy(code='MX-MEX', country_code='MX', name='México', parent_code=None, type='State')\n",
      "SubdivisionHierarchy(code='PA-8', country_code='PA', name='Panamá', parent_code=None, type='Province')\n",
      "SubdivisionHierarchy(code='MX-MEX', country_code='MX', name='México', parent_code=None, type='State')\n",
      "SubdivisionHierarchy(code='GT-GU', country_code='GT', name='Guatemala', parent_code=None, type='Department')\n",
      "SubdivisionHierarchy(code='MX-MEX', country_code='MX', name='México', parent_code=None, type='State')\n",
      "SubdivisionHierarchy(code='US-CA', country_code='US', name='California', parent_code=None, type='State')\n",
      "SubdivisionHierarchy(code='MX-MEX', country_code='MX', name='México', parent_code=None, type='State')\n",
      "SubdivisionHierarchy(code='MX-MEX', country_code='MX', name='México', parent_code=None, type='State')\n",
      "SubdivisionHierarchy(code='US-CA', country_code='US', name='California', parent_code=None, type='State')\n",
      "SubdivisionHierarchy(code='MX-MEX', country_code='MX', name='México', parent_code=None, type='State')\n",
      "SubdivisionHierarchy(code='PA-8', country_code='PA', name='Panamá', parent_code=None, type='Province')\n",
      "SubdivisionHierarchy(code='PA-8', country_code='PA', name='Panamá', parent_code=None, type='Province')\n",
      "SubdivisionHierarchy(code='MX-MEX', country_code='MX', name='México', parent_code=None, type='State')\n",
      "SubdivisionHierarchy(code='MX-MEX', country_code='MX', name='México', parent_code=None, type='State')\n",
      "SubdivisionHierarchy(code='MX-MEX', country_code='MX', name='México', parent_code=None, type='State')\n",
      "SubdivisionHierarchy(code='MX-MEX', country_code='MX', name='México', parent_code=None, type='State')\n",
      "SubdivisionHierarchy(code='MX-MEX', country_code='MX', name='México', parent_code=None, type='State')\n",
      "SubdivisionHierarchy(code='GT-GU', country_code='GT', name='Guatemala', parent_code=None, type='Department')\n",
      "SubdivisionHierarchy(code='PA-8', country_code='PA', name='Panamá', parent_code=None, type='Province')\n",
      "SubdivisionHierarchy(code='US-CA', country_code='US', name='California', parent_code=None, type='State')\n",
      "SubdivisionHierarchy(code='MX-MEX', country_code='MX', name='México', parent_code=None, type='State')\n",
      "SubdivisionHierarchy(code='MX-MEX', country_code='MX', name='México', parent_code=None, type='State')\n",
      "SubdivisionHierarchy(code='MX-MEX', country_code='MX', name='México', parent_code=None, type='State')\n",
      "SubdivisionHierarchy(code='MX-MEX', country_code='MX', name='México', parent_code=None, type='State')\n",
      "SubdivisionHierarchy(code='MX-MEX', country_code='MX', name='México', parent_code=None, type='State')\n",
      "SubdivisionHierarchy(code='TM-B', country_code='TM', name='Balkan', parent_code=None, type='Region')\n",
      "SubdivisionHierarchy(code='US-CA', country_code='US', name='California', parent_code=None, type='State')\n",
      "SubdivisionHierarchy(code='US-CA', country_code='US', name='California', parent_code=None, type='State')\n",
      "SubdivisionHierarchy(code='MX-MEX', country_code='MX', name='México', parent_code=None, type='State')\n",
      "SubdivisionHierarchy(code='PA-8', country_code='PA', name='Panamá', parent_code=None, type='Province')\n",
      "SubdivisionHierarchy(code='US-CA', country_code='US', name='California', parent_code=None, type='State')\n",
      "SubdivisionHierarchy(code='MX-MEX', country_code='MX', name='México', parent_code=None, type='State')\n",
      "SubdivisionHierarchy(code='MX-MEX', country_code='MX', name='México', parent_code=None, type='State')\n",
      "SubdivisionHierarchy(code='MX-MEX', country_code='MX', name='México', parent_code=None, type='State')\n",
      "SubdivisionHierarchy(code='MX-MEX', country_code='MX', name='México', parent_code=None, type='State')\n",
      "SubdivisionHierarchy(code='MX-MEX', country_code='MX', name='México', parent_code=None, type='State')\n",
      "SubdivisionHierarchy(code='PA-8', country_code='PA', name='Panamá', parent_code=None, type='Province')\n",
      "SubdivisionHierarchy(code='US-CA', country_code='US', name='California', parent_code=None, type='State')\n",
      "SubdivisionHierarchy(code='MX-MEX', country_code='MX', name='México', parent_code=None, type='State')\n",
      "SubdivisionHierarchy(code='MX-MEX', country_code='MX', name='México', parent_code=None, type='State')\n",
      "SubdivisionHierarchy(code='MX-MEX', country_code='MX', name='México', parent_code=None, type='State')\n",
      "SubdivisionHierarchy(code='MX-MEX', country_code='MX', name='México', parent_code=None, type='State')\n",
      "SubdivisionHierarchy(code='MX-MEX', country_code='MX', name='México', parent_code=None, type='State')\n",
      "SubdivisionHierarchy(code='US-CA', country_code='US', name='California', parent_code=None, type='State')\n",
      "SubdivisionHierarchy(code='MX-MEX', country_code='MX', name='México', parent_code=None, type='State')\n",
      "SubdivisionHierarchy(code='PA-8', country_code='PA', name='Panamá', parent_code=None, type='Province')\n",
      "SubdivisionHierarchy(code='PA-8', country_code='PA', name='Panamá', parent_code=None, type='Province')\n",
      "SubdivisionHierarchy(code='MX-MEX', country_code='MX', name='México', parent_code=None, type='State')\n",
      "SubdivisionHierarchy(code='PA-8', country_code='PA', name='Panamá', parent_code=None, type='Province')\n",
      "SubdivisionHierarchy(code='MX-MEX', country_code='MX', name='México', parent_code=None, type='State')\n",
      "SubdivisionHierarchy(code='US-CA', country_code='US', name='California', parent_code=None, type='State')\n",
      "SubdivisionHierarchy(code='MX-MEX', country_code='MX', name='México', parent_code=None, type='State')\n",
      "SubdivisionHierarchy(code='US-CA', country_code='US', name='California', parent_code=None, type='State')\n",
      "SubdivisionHierarchy(code='MX-MEX', country_code='MX', name='México', parent_code=None, type='State')\n",
      "SubdivisionHierarchy(code='MX-MEX', country_code='MX', name='México', parent_code=None, type='State')\n",
      "SubdivisionHierarchy(code='MX-MEX', country_code='MX', name='México', parent_code=None, type='State')\n",
      "SubdivisionHierarchy(code='MX-MEX', country_code='MX', name='México', parent_code=None, type='State')\n",
      "SubdivisionHierarchy(code='MX-MEX', country_code='MX', name='México', parent_code=None, type='State')\n",
      "SubdivisionHierarchy(code='US-CA', country_code='US', name='California', parent_code=None, type='State')\n",
      "SubdivisionHierarchy(code='PA-8', country_code='PA', name='Panamá', parent_code=None, type='Province')\n",
      "SubdivisionHierarchy(code='MX-MEX', country_code='MX', name='México', parent_code=None, type='State')\n",
      "SubdivisionHierarchy(code='MX-MEX', country_code='MX', name='México', parent_code=None, type='State')\n",
      "SubdivisionHierarchy(code='MX-MEX', country_code='MX', name='México', parent_code=None, type='State')\n",
      "SubdivisionHierarchy(code='MX-MEX', country_code='MX', name='México', parent_code=None, type='State')\n",
      "SubdivisionHierarchy(code='US-CA', country_code='US', name='California', parent_code=None, type='State')\n",
      "SubdivisionHierarchy(code='US-CA', country_code='US', name='California', parent_code=None, type='State')\n",
      "SubdivisionHierarchy(code='MX-MEX', country_code='MX', name='México', parent_code=None, type='State')\n",
      "SubdivisionHierarchy(code='MX-MEX', country_code='MX', name='México', parent_code=None, type='State')\n",
      "SubdivisionHierarchy(code='MX-MEX', country_code='MX', name='México', parent_code=None, type='State')\n",
      "SubdivisionHierarchy(code='US-CA', country_code='US', name='California', parent_code=None, type='State')\n",
      "SubdivisionHierarchy(code='MX-MEX', country_code='MX', name='México', parent_code=None, type='State')\n",
      "SubdivisionHierarchy(code='MX-MEX', country_code='MX', name='México', parent_code=None, type='State')\n",
      "SubdivisionHierarchy(code='MX-MEX', country_code='MX', name='México', parent_code=None, type='State')\n",
      "SubdivisionHierarchy(code='MX-MEX', country_code='MX', name='México', parent_code=None, type='State')\n",
      "SubdivisionHierarchy(code='MX-MEX', country_code='MX', name='México', parent_code=None, type='State')\n",
      "SubdivisionHierarchy(code='MX-MEX', country_code='MX', name='México', parent_code=None, type='State')\n",
      "SubdivisionHierarchy(code='MX-MEX', country_code='MX', name='México', parent_code=None, type='State')\n",
      "SubdivisionHierarchy(code='US-CA', country_code='US', name='California', parent_code=None, type='State')\n",
      "SubdivisionHierarchy(code='PA-8', country_code='PA', name='Panamá', parent_code=None, type='Province')\n",
      "SubdivisionHierarchy(code='PA-4', country_code='PA', name='Chiriquí', parent_code=None, type='Province')\n",
      "SubdivisionHierarchy(code='PA-9', country_code='PA', name='Veraguas', parent_code=None, type='Province')\n",
      "SubdivisionHierarchy(code='PE-ICA', country_code='PE', name='Ica', parent_code=None, type='Region')\n",
      "SubdivisionHierarchy(code='PA-5', country_code='PA', name='Darién', parent_code=None, type='Province')\n",
      "SubdivisionHierarchy(code='TH-55', country_code='TH', name='Nan', parent_code=None, type='Province')\n",
      "SubdivisionHierarchy(code='IT-RN', country_code='IT', name='Rimini', parent='45', parent_code='IT-45', type='Province')\n",
      "SubdivisionHierarchy(code='IT-RA', country_code='IT', name='Ravenna', parent='45', parent_code='IT-45', type='Province')\n",
      "SubdivisionHierarchy(code='IT-VI', country_code='IT', name='Vicenza', parent='34', parent_code='IT-34', type='Province')\n",
      "SubdivisionHierarchy(code='IT-AR', country_code='IT', name='Arezzo', parent='52', parent_code='IT-52', type='Province')\n",
      "SubdivisionHierarchy(code='CH-FR', country_code='CH', name='Freiburg', parent_code=None, type='Canton')\n",
      "SubdivisionHierarchy(code='AT-5', country_code='AT', name='Salzburg', parent_code=None, type='State')\n"
     ]
    }
   ],
   "source": [
    "tqdm.pandas()\n",
    "\n",
    "df['class'] = df['culture'].progress_map(mapping)"
   ]
  },
  {
   "cell_type": "markdown",
   "id": "cf738053-47ef-4bde-b80b-17e1395e24b5",
   "metadata": {},
   "source": [
    "#### Filter unknowns"
   ]
  },
  {
   "cell_type": "code",
   "execution_count": 6,
   "id": "9281c31c-34ec-4d51-8baa-c5e3dbd99ced",
   "metadata": {},
   "outputs": [],
   "source": [
    "df = df[df['class'] != 'unknown']"
   ]
  },
  {
   "cell_type": "markdown",
   "id": "67bba4a5-fca4-4116-afc5-9d25bd472507",
   "metadata": {},
   "source": [
    "#### Filter rows that lack downloaded images "
   ]
  },
  {
   "cell_type": "code",
   "execution_count": 8,
   "id": "2ee848a0-a08b-49b9-91e6-c4eb437b4cf4",
   "metadata": {},
   "outputs": [
    {
     "data": {
      "application/vnd.jupyter.widget-view+json": {
       "model_id": "9d10c82a77814961a31a17caaa27dcbb",
       "version_major": 2,
       "version_minor": 0
      },
      "text/plain": [
       "  0%|          | 0/59088 [00:00<?, ?it/s]"
      ]
     },
     "metadata": {},
     "output_type": "display_data"
    }
   ],
   "source": [
    "def check_image_existance(path):\n",
    "    if os.path.exists(path):\n",
    "        return path\n",
    "    return 'unknown'\n",
    "\n",
    "df['path'] = df['path'].progress_map(check_image_existance)\n",
    "\n",
    "df = df[df['path'] != 'unknown']"
   ]
  },
  {
   "cell_type": "markdown",
   "id": "a4dfea1a-8936-4ec6-b12a-f0de5c351bc4",
   "metadata": {},
   "source": [
    "### Saving the metadata into csv"
   ]
  },
  {
   "cell_type": "code",
   "execution_count": 9,
   "id": "54b992af-6dda-47d3-8c80-fb713d403d88",
   "metadata": {},
   "outputs": [],
   "source": [
    "df.to_csv(OUTPUT_FILE)"
   ]
  },
  {
   "cell_type": "code",
   "execution_count": null,
   "id": "33ebfb25-1e01-420b-b651-dd05f68a1de3",
   "metadata": {},
   "outputs": [],
   "source": []
  }
 ],
 "metadata": {
  "kernelspec": {
   "display_name": "Python 3 (ipykernel)",
   "language": "python",
   "name": "python3"
  },
  "language_info": {
   "codemirror_mode": {
    "name": "ipython",
    "version": 3
   },
   "file_extension": ".py",
   "mimetype": "text/x-python",
   "name": "python",
   "nbconvert_exporter": "python",
   "pygments_lexer": "ipython3",
   "version": "3.11.6"
  }
 },
 "nbformat": 4,
 "nbformat_minor": 5
}
