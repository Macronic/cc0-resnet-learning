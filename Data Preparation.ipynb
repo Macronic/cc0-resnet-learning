{
 "cells": [
  {
   "cell_type": "markdown",
   "id": "63bc0fc0-4236-4c71-b4c6-9edd4e4b6623",
   "metadata": {},
   "source": [
    "# Data Preparation\n",
    "\n",
    "In this notebook, we'll read the joined metadata file and do some data preprocessing to get it ready for the ResNet to be trained on.\n",
    "To see the process the decisions were made, see Data Exploration notebook."
   ]
  },
  {
   "cell_type": "markdown",
   "id": "e025695f-e772-4fdd-994a-0edd70fa91f9",
   "metadata": {},
   "source": [
    "### Constants and imports"
   ]
  },
  {
   "cell_type": "code",
   "execution_count": 1,
   "id": "526f01ac-ef27-484f-990a-8fb063df5f7f",
   "metadata": {},
   "outputs": [],
   "source": [
    "import os\n",
    "import pandas as pd\n",
    "import pycountry\n",
    "from tqdm.notebook import tqdm\n",
    "import magic\n",
    "\n",
    "METADATA_DIRECTORY = 'metadata'\n",
    "JOINED_METADATA_FILE = os.path.join(METADATA_DIRECTORY, 'metadata_joined.csv')\n",
    "OUTPUT_FILE = os.path.join(METADATA_DIRECTORY, 'dataset.csv')\n",
    "DATASET_DIRECTORY = 'dataset'\n",
    "PREPROCESSED_DIRECTORY = os.path.join(DATASET_DIRECTORY, 'preprocessed')\n",
    "USE_MAPPING = 'type'\n",
    "MIN_CLASS_SAMPLES_COUNT = 100\n",
    "\n",
    "HAVING_IT_PREPROCESSED_IS_PROOF_OF_VALIDITY = True"
   ]
  },
  {
   "cell_type": "markdown",
   "id": "1e8afece-7c6f-4729-bba1-be6f1fff839c",
   "metadata": {},
   "source": [
    "### Loading the metadata"
   ]
  },
  {
   "cell_type": "code",
   "execution_count": 2,
   "id": "e506b27d-ff0c-49f8-9c6a-0d13b5fc0aef",
   "metadata": {},
   "outputs": [
    {
     "name": "stderr",
     "output_type": "stream",
     "text": [
      "/tmp/ipykernel_128085/722518741.py:1: DtypeWarning: Columns (3,4,8) have mixed types. Specify dtype option on import or set low_memory=False.\n",
      "  df = pd.read_csv(JOINED_METADATA_FILE, lineterminator='\\n')\n"
     ]
    }
   ],
   "source": [
    "df = pd.read_csv(JOINED_METADATA_FILE, lineterminator='\\n')\n"
   ]
  },
  {
   "cell_type": "markdown",
   "id": "29e95441-b9da-4dcb-81ba-cfd86207fe54",
   "metadata": {},
   "source": [
    "### Setting up 'class' column, based on culture"
   ]
  },
  {
   "cell_type": "markdown",
   "id": "8cd04321-90de-4d27-9c78-8b44b50b3ff6",
   "metadata": {},
   "source": [
    "#### Override cache values"
   ]
  },
  {
   "cell_type": "code",
   "execution_count": 3,
   "id": "b764e443-0bfa-44bf-83bf-4e65683ab295",
   "metadata": {},
   "outputs": [],
   "source": [
    "map_cache = { # I've iterated a lot on this cache, to minimize false values and unknowns\n",
    "    'America': 'United States',\n",
    "    'American': 'United States',\n",
    "    'Flanders': 'Flanders',\n",
    "    'Venetian': 'Italy',\n",
    "    'Florentine': 'Italy',\n",
    "    'Tuscan': 'Italy',\n",
    "    'Flemings': 'Flemings',\n",
    "    'Flemish': 'Flemings',\n",
    "    'Milanese': 'Italy',\n",
    "    'Genoese': 'Italy',\n",
    "    'Eastern India': 'Eastern India',\n",
    "    'Mughal India': 'Mughal India',\n",
    "    'Sardinia': 'Italy',\n",
    "    'Byzantium': 'Byzantium',\n",
    "    'Byzantium (style of)': 'Byzantium',\n",
    "    'Bohemia': 'Czechia',\n",
    "    'North Italy': 'Italy',\n",
    "    'Ferrarese': 'Italy',\n",
    "    'Sienese': 'Italy',\n",
    "    'North coast of Peru': 'Peru',\n",
    "    'Frankish': 'France',\n",
    "    'Western India': 'Western India',\n",
    "    'South German': 'Germany',\n",
    "    'Italy(?)': 'Italy',\n",
    "    'Chinese': 'China',\n",
    "    'Netherlandish': 'Netherlands',\n",
    "    'Austrian': 'Austria',\n",
    "    'Bohemian': 'Czechia',\n",
    "    'Paduan': 'Italy',\n",
    "    'Veronese': 'Italy',\n",
    "    'Southern France': 'France',\n",
    "    'Japanese': 'Japan',\n",
    "    'Greek': 'Greece',\n",
    "    'Bolognese': 'Italy',\n",
    "    'Mantuan': 'Italy',\n",
    "    'North Italian': 'Italy',\n",
    "    'Norwegian': 'Norway',\n",
    "    'Canadian': 'Canada',\n",
    "    'Belgian': 'Belgium',\n",
    "    'Nuremberg': 'Germany',\n",
    "    'Turkey': 'Turkey',\n",
    "    'Swedish': 'Sweden'\n",
    "}"
   ]
  },
  {
   "cell_type": "markdown",
   "id": "a02e73bd-1be9-4fa4-8a9f-2bccdf38bf6c",
   "metadata": {},
   "source": [
    "#### Mapping functions"
   ]
  },
  {
   "cell_type": "code",
   "execution_count": 4,
   "id": "60a6ad5a-1fe6-42e2-a30d-9fc19eda5f28",
   "metadata": {},
   "outputs": [],
   "source": [
    "country_names = [x.name for x in list(pycountry.countries)] + [x.name for x in list(pycountry.historic_countries)]\n",
    "\n",
    "def attempt_raw_mapping(x):\n",
    "    if x in map_cache:\n",
    "        return map_cache[x]\n",
    "    for name in country_names:\n",
    "        if x == name:\n",
    "            map_cache[x] = name\n",
    "            return name\n",
    "    y = x.split(',')[0]\n",
    "    if y in map_cache:\n",
    "        map_cache[x] = map_cache[y]\n",
    "        return map_cache[y]\n",
    "    for name in country_names:\n",
    "        if x == name:\n",
    "            map_cache[x] = name\n",
    "            map_cache[y] = name\n",
    "            return name\n",
    "    return None\n",
    "\n",
    "def attempt_fuzzy_mapping(x): \n",
    "    if x in map_cache:\n",
    "        return map_cache[x]\n",
    "    try:\n",
    "        result = pycountry.countries.search_fuzzy(x)[0]\n",
    "        if 'country' in result:\n",
    "            result = result.country.name\n",
    "        else:\n",
    "            result = result.name\n",
    "        map_cache[x] = result\n",
    "        return result\n",
    "    except:\n",
    "        try:\n",
    "            result = pycountry.historic_countries.search_fuzzy(x)[0]\n",
    "            if 'country' in result:\n",
    "                result = result.country.name\n",
    "            else:\n",
    "                result = result.name\n",
    "            map_cache[x] = result\n",
    "            return result\n",
    "        except:\n",
    "            y = x.split(',')[0]\n",
    "            if y in map_cache:\n",
    "                map_cache[x] = map_cache[y]\n",
    "                return map_cache[y]\n",
    "            try:\n",
    "                result = pycountry.countries.search_fuzzy(y)[0]\n",
    "                if 'country' in result:\n",
    "                    result = result.country.name\n",
    "                else:\n",
    "                    result = result.name\n",
    "                map_cache[x] = result\n",
    "                return result\n",
    "            except:\n",
    "                try:\n",
    "                    result = pycountry.historic_countries.search_fuzzy(y)[0]\n",
    "                    if 'country' in result:\n",
    "                        result = result.country.name\n",
    "                    else:\n",
    "                        result = result.name\n",
    "                    map_cache[x] = result\n",
    "                    return result\n",
    "                except:\n",
    "                    map_cache[x] = 'unknown'\n",
    "                    return 'unknown'\n",
    "    map_cache[x] = 'unknown'\n",
    "    return 'unknown'\n",
    "\n",
    "def country_mapping(x):\n",
    "    x = str(x)\n",
    "    raw = attempt_raw_mapping(x)\n",
    "    if raw is not None:\n",
    "        return raw\n",
    "    \n",
    "    fuzzy = attempt_fuzzy_mapping(x)\n",
    "    return fuzzy\n",
    "\n",
    "tqdm.pandas()"
   ]
  },
  {
   "cell_type": "code",
   "execution_count": 5,
   "id": "7bcc02a4-ba57-4a67-ba16-7747908f92d8",
   "metadata": {},
   "outputs": [],
   "source": [
    "grouping = {\n",
    "    'Ceramics': 'Sediment-based wares',\n",
    "    'Ceramic': 'Sediment-based wares',\n",
    "    'Stucco': 'Sediment-based wares',\n",
    "    'Terracottas': 'Terracottas',\n",
    "    \n",
    "    'Miniatures': 'Miniature',\n",
    "    \n",
    "    'Photographs': 'Photograph',\n",
    "    'Card photograph': 'Photograph',\n",
    "\n",
    "    'Basketry': 'Basketry',\n",
    "    'Vases': 'Vases',\n",
    "    'Spindle Whorl': 'Spindle Whorl',\n",
    "    'Implements': 'Common Items and Festives',\n",
    "    'Vessels': 'Vessels',\n",
    "    'Horology': 'Common Items and Festives',\n",
    "    'Funerary Equipment': 'Funerary Equipment',\n",
    "    'Decorative Art': 'Common Items and Festives',\n",
    "    'Coins': 'Coins',\n",
    "    'Coin': 'Coins',\n",
    "    'Equestrian Equipment': 'Equestrian Equipment',\n",
    "    \n",
    "    'Leatherwork': 'Leather',\n",
    "    \n",
    "    'Enamels': 'Enamels',\n",
    "    'Enamel': 'Enamels',\n",
    "    'Glass': 'Glass and glaze',\n",
    "    'Lacquer': 'Lacquer',\n",
    "    \n",
    "    'Stone Sculpture': 'Sculpture',\n",
    "    \n",
    "    'Jade': 'Gem-based wares',\n",
    "    'Stone': 'Stone',\n",
    "    'Gems': 'Gem-based wares',\n",
    "\n",
    "    'Woodwork': 'Organic-based wares',\n",
    "    'Wood': 'Organic-based wares',\n",
    "    'Woodblock': 'Organic-based wares',\n",
    "    'Furniture and woodwork': 'Organic-based wares',\n",
    "\n",
    "    'Bone/Ivory': 'Bone/Ivory',\n",
    "    'Bone': 'Bone/Ivory',\n",
    "    'Ivory': 'Bone/Ivory',\n",
    "    'Ivories': 'Bone/Ivory',\n",
    "    'Ivories and Bone': 'Bone/Ivory',\n",
    "\n",
    "    'Arms': 'Arms and Armor',\n",
    "    'Daggers': 'Arms and Armor',\n",
    "    'Helmets': 'Arms and Armor',\n",
    "    'Shafted Weapons': 'Arms and Armor',\n",
    "    'Swords': 'Arms and Armor',\n",
    "    'Sword Furniture': 'Arms and Armor',\n",
    "    'Shafted Weapons': 'Arms and Armor',\n",
    "    'Archery Equipment': 'Arms and Armor',\n",
    "    'Firearms': 'Arms and Armor',\n",
    "\n",
    "    'Garment': 'Clothing',\n",
    "    'Costumes': 'Clothing',\n",
    "\n",
    "    'Textiles': 'Fabrics and fabric-based manufacture',\n",
    "    'Textile': 'Fabrics and fabric-based manufacture',\n",
    "    'Velvet': 'Fabrics and fabric-based manufacture',\n",
    "    \n",
    "    'Lace': 'Lace',\n",
    "\n",
    "    'Aerophone': 'Music instruments',\n",
    "    'Chordophone': 'Music instruments',\n",
    "    'Idiophone': 'Music instruments',\n",
    "    'Musical Instrument': 'Music instruments',\n",
    "    'Membranophone': 'Music instruments',\n",
    "    \n",
    "    'Metalwork': 'Metalurgy',\n",
    "    'Metal': 'Metalurgy',\n",
    "    'Bronzes': 'Metalurgy',\n",
    "    'Gold and Silver': 'Metalurgy',\n",
    "    'Silver': 'Metalurgy',\n",
    "\n",
    "    'Drawings': 'Drawings',\n",
    "    'Drawing': 'Drawings',\n",
    "    'Drawing and Watercolor': 'Drawings',\n",
    "    'Illustrated Books': 'Drawings',\n",
    "    \n",
    "    'Portrait Miniature': 'Portrait Miniature',\n",
    "    'Miniature Painting': 'Portrait Miniature',\n",
    "    \n",
    "    'Albums': 'Drawings',\n",
    "    'Index of American Design': 'Drawings',\n",
    "    \n",
    "    'Prints': 'Prints',\n",
    "    'Print': 'Prints',\n",
    "    \n",
    "    'Portfolio': 'Portfolio',\n",
    "    \n",
    "    'Paintings': 'Paintings',\n",
    "    'Painting': 'Paintings',\n",
    "    \n",
    "    'Calligraphy': 'Calligraphy',\n",
    "\n",
    "    'Chess Sets': 'Gaming pieces',\n",
    "\n",
    "    'Book': 'Books',\n",
    "    'Books': 'Books',\n",
    "    'Codices': 'Books',\n",
    "    'Bound Volume': 'Books',\n",
    "    'Volume': 'Books',\n",
    "\n",
    "    'Manuscript': 'Manuscripts and illuminations',\n",
    "    'Manuscripts and Illuminations': 'Manuscripts and illuminations',\n",
    "\n",
    "    'Jewelry': 'Jewelry',\n",
    "    'Medals and Plaquettes': 'Medals and Plaquettes',\n",
    "    'Medals': 'Medals and Plaquettes',\n",
    "    'Netsuke': 'Netsuke',\n",
    "    'Snuff Bottles': 'Snuff Bottles',\n",
    "    'Amulets': 'Amulets',\n",
    "    \n",
    "    'Fans': 'Fans',\n",
    "    'Inrō': 'Inrō',\n",
    "}\n",
    "\n",
    "def get_first_part(x):\n",
    "    x = str(x)\n",
    "    if '-' in x:\n",
    "        return x.split('-')[0]\n",
    "    return x\n",
    "\n",
    "def type_mapping(x):\n",
    "    x = get_first_part(x)\n",
    "    if 'Armor' in x:\n",
    "        return 'Arms and Armor'\n",
    "    if x in grouping:\n",
    "        return grouping[x]\n",
    "    return x\n",
    "\n",
    "tqdm.pandas()\n"
   ]
  },
  {
   "cell_type": "markdown",
   "id": "ef101fc1-c4b9-47d9-8fe9-75959e134249",
   "metadata": {},
   "source": [
    "#### Running mapping"
   ]
  },
  {
   "cell_type": "code",
   "execution_count": 6,
   "id": "6242f73b-3699-4c3e-b7c1-948aad772964",
   "metadata": {},
   "outputs": [
    {
     "data": {
      "application/vnd.jupyter.widget-view+json": {
       "model_id": "1c6c9a385c8b43539191b6f279980eb7",
       "version_major": 2,
       "version_minor": 0
      },
      "text/plain": [
       "  0%|          | 0/279293 [00:00<?, ?it/s]"
      ]
     },
     "metadata": {},
     "output_type": "display_data"
    }
   ],
   "source": [
    "tqdm.pandas()\n",
    "\n",
    "if USE_MAPPING == 'culture':\n",
    "    df['class'] = df['culture'].progress_map(country_mapping)\n",
    "else:\n",
    "    df['class'] = df['type'].progress_map(type_mapping)\n",
    "    \n",
    "classes_to_select = list(df['class'].value_counts()[df['class'].value_counts() > MIN_CLASS_SAMPLES_COUNT].index)\n",
    "if 'nan' in classes_to_select:\n",
    "    classes_to_select.remove('nan')\n",
    "if 'unknown' in classes_to_select:\n",
    "    classes_to_select.remove('unknown')\n",
    "\n",
    "df = df[df['class'].isin(classes_to_select)]"
   ]
  },
  {
   "cell_type": "markdown",
   "id": "67bba4a5-fca4-4116-afc5-9d25bd472507",
   "metadata": {},
   "source": [
    "#### Filter rows that lack downloaded images or the image isn't jpeg/png"
   ]
  },
  {
   "cell_type": "code",
   "execution_count": 7,
   "id": "2ee848a0-a08b-49b9-91e6-c4eb437b4cf4",
   "metadata": {},
   "outputs": [
    {
     "data": {
      "application/vnd.jupyter.widget-view+json": {
       "model_id": "41c4e21e85214114bea21341482ffe58",
       "version_major": 2,
       "version_minor": 0
      },
      "text/plain": [
       "  0%|          | 0/262885 [00:00<?, ?it/s]"
      ]
     },
     "metadata": {},
     "output_type": "display_data"
    }
   ],
   "source": [
    "def check_image_existance_and_type(path):\n",
    "    if os.path.exists(path):\n",
    "        if HAVING_IT_PREPROCESSED_IS_PROOF_OF_VALIDITY and os.path.exists(os.path.join(PREPROCESSED_DIRECTORY, os.path.basename(path))):\n",
    "            # If it's preprocessed, then the file is valid (as it had to be to get preprocessed)\n",
    "            return path\n",
    "        type = magic.from_file(path, mime=True)\n",
    "        if type == 'image/jpeg' or type == 'image/png':\n",
    "            return path\n",
    "    return 'unknown'\n",
    "\n",
    "df['path'] = df['path'].progress_map(check_image_existance_and_type)\n",
    "\n",
    "df = df[df['path'] != 'unknown']"
   ]
  },
  {
   "cell_type": "markdown",
   "id": "a4dfea1a-8936-4ec6-b12a-f0de5c351bc4",
   "metadata": {},
   "source": [
    "### Saving the metadata into csv"
   ]
  },
  {
   "cell_type": "code",
   "execution_count": 8,
   "id": "54b992af-6dda-47d3-8c80-fb713d403d88",
   "metadata": {},
   "outputs": [],
   "source": [
    "df.to_csv(OUTPUT_FILE, index=False)"
   ]
  },
  {
   "cell_type": "code",
   "execution_count": 9,
   "id": "113183aa-e15b-4bdb-bd89-cc1c09a6fcf0",
   "metadata": {},
   "outputs": [
    {
     "data": {
      "text/plain": [
       "['Prints',\n",
       " 'Drawings',\n",
       " 'Photograph',\n",
       " 'Fabrics and fabric-based manufacture',\n",
       " 'Sediment-based wares',\n",
       " 'Paintings',\n",
       " 'Sculpture',\n",
       " 'Metalurgy',\n",
       " 'Vases',\n",
       " 'Books',\n",
       " 'Stereograph',\n",
       " 'Glass and glaze',\n",
       " 'Arms and Armor',\n",
       " 'Coins',\n",
       " 'Vessel',\n",
       " 'Manuscripts and illuminations',\n",
       " 'Jewelry',\n",
       " 'Organic-based wares',\n",
       " 'Costume and Accessories',\n",
       " 'Folio',\n",
       " 'Decorative Arts',\n",
       " 'Lace',\n",
       " 'Miscellaneous',\n",
       " 'Gem-based wares',\n",
       " 'Common Items and Festives',\n",
       " 'Music instruments',\n",
       " 'Portfolio',\n",
       " 'Embroidery',\n",
       " 'Bone/Ivory',\n",
       " 'Cased object',\n",
       " 'Stone',\n",
       " 'Medals and Plaquettes',\n",
       " 'Enamels',\n",
       " 'Lacquer',\n",
       " 'Terracottas',\n",
       " 'Clothing',\n",
       " 'Furniture',\n",
       " 'Netsuke',\n",
       " 'Religious/Ritual Object',\n",
       " 'Funerary Equipment',\n",
       " 'Portrait Miniature',\n",
       " 'Stencils',\n",
       " 'Basketry',\n",
       " 'Inrō',\n",
       " 'Equestrian Equipment',\n",
       " 'Snuff Bottles',\n",
       " 'Architectural Drawing',\n",
       " 'Lamp',\n",
       " 'Fans',\n",
       " 'Architectural fragment',\n",
       " 'Female figure',\n",
       " 'Gem',\n",
       " 'Spindle Whorl',\n",
       " 'Calligraphy',\n",
       " 'Frames',\n",
       " 'Vessels',\n",
       " 'Gaming pieces',\n",
       " 'Amulets']"
      ]
     },
     "execution_count": 9,
     "metadata": {},
     "output_type": "execute_result"
    }
   ],
   "source": [
    "classes_to_select"
   ]
  },
  {
   "cell_type": "code",
   "execution_count": 10,
   "id": "41a49c04-5d6d-4c44-9d19-3825f468466c",
   "metadata": {},
   "outputs": [
    {
     "data": {
      "text/plain": [
       "58"
      ]
     },
     "execution_count": 10,
     "metadata": {},
     "output_type": "execute_result"
    }
   ],
   "source": [
    "len(classes_to_select)"
   ]
  },
  {
   "cell_type": "code",
   "execution_count": 11,
   "id": "33ebfb25-1e01-420b-b651-dd05f68a1de3",
   "metadata": {},
   "outputs": [
    {
     "data": {
      "text/plain": [
       "261129"
      ]
     },
     "execution_count": 11,
     "metadata": {},
     "output_type": "execute_result"
    }
   ],
   "source": [
    "len(df)"
   ]
  },
  {
   "cell_type": "code",
   "execution_count": 12,
   "id": "ed4d1125-1042-46ae-9762-d1e5ef35f4c7",
   "metadata": {},
   "outputs": [
    {
     "data": {
      "text/plain": [
       "class\n",
       "Prints                                  91984\n",
       "Drawings                                42459\n",
       "Photograph                              27304\n",
       "Fabrics and fabric-based manufacture    13425\n",
       "Sediment-based wares                    10872\n",
       "Paintings                               10369\n",
       "Sculpture                                8725\n",
       "Metalurgy                                7326\n",
       "Vases                                    6667\n",
       "Books                                    5172\n",
       "Stereograph                              4494\n",
       "Glass and glaze                          3666\n",
       "Arms and Armor                           3391\n",
       "Coins                                    2062\n",
       "Vessel                                   1837\n",
       "Manuscripts and illuminations            1490\n",
       "Jewelry                                  1421\n",
       "Organic-based wares                      1402\n",
       "Costume and Accessories                  1288\n",
       "Folio                                    1192\n",
       "Decorative Arts                          1154\n",
       "Lace                                     1153\n",
       "Miscellaneous                            1023\n",
       "Gem-based wares                           850\n",
       "Common Items and Festives                 836\n",
       "Music instruments                         820\n",
       "Portfolio                                 638\n",
       "Embroidery                                591\n",
       "Bone/Ivory                                522\n",
       "Cased object                              492\n",
       "Stone                                     491\n",
       "Medals and Plaquettes                     462\n",
       "Enamels                                   452\n",
       "Lacquer                                   437\n",
       "Terracottas                               436\n",
       "Clothing                                  376\n",
       "Furniture                                 328\n",
       "Netsuke                                   320\n",
       "Religious/Ritual Object                   295\n",
       "Funerary Equipment                        281\n",
       "Portrait Miniature                        178\n",
       "Stencils                                  176\n",
       "Basketry                                  172\n",
       "Inrō                                      170\n",
       "Equestrian Equipment                      165\n",
       "Snuff Bottles                             163\n",
       "Architectural Drawing                     157\n",
       "Lamp                                      155\n",
       "Fans                                      154\n",
       "Female figure                             145\n",
       "Architectural fragment                    141\n",
       "Gem                                       137\n",
       "Spindle Whorl                             135\n",
       "Calligraphy                               133\n",
       "Frames                                    125\n",
       "Vessels                                   110\n",
       "Gaming pieces                             109\n",
       "Amulets                                   101\n",
       "Name: count, dtype: int64"
      ]
     },
     "execution_count": 12,
     "metadata": {},
     "output_type": "execute_result"
    }
   ],
   "source": [
    "df['class'].value_counts()"
   ]
  },
  {
   "cell_type": "code",
   "execution_count": null,
   "id": "f073e5de-19fe-4ff8-aff5-dd67b86dabab",
   "metadata": {},
   "outputs": [],
   "source": []
  }
 ],
 "metadata": {
  "kernelspec": {
   "display_name": "Python 3 (ipykernel)",
   "language": "python",
   "name": "python3"
  },
  "language_info": {
   "codemirror_mode": {
    "name": "ipython",
    "version": 3
   },
   "file_extension": ".py",
   "mimetype": "text/x-python",
   "name": "python",
   "nbconvert_exporter": "python",
   "pygments_lexer": "ipython3",
   "version": "3.11.6"
  }
 },
 "nbformat": 4,
 "nbformat_minor": 5
}
