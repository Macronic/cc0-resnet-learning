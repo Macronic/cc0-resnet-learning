{
 "cells": [
  {
   "cell_type": "markdown",
   "id": "82d4e08b-4dfa-4b9e-9758-59de882868d3",
   "metadata": {},
   "source": [
    "# ResNet-50 Learning"
   ]
  },
  {
   "cell_type": "markdown",
   "id": "448494bc-15a3-4bfe-a164-a27aedb00d84",
   "metadata": {},
   "source": [
    "Time to put our dataset to use! We'll use pytorch-lightning as a trainer!\n",
    "\n",
    "If you'd like to see, how well does the backbone work compared to using transfer with the main article ResNet-50, see ResNet-50 Backbone Testing notebook."
   ]
  },
  {
   "cell_type": "markdown",
   "id": "eb2f1740-3385-4734-86fb-4e846741fdc7",
   "metadata": {},
   "source": [
    "### Constants and imports"
   ]
  },
  {
   "cell_type": "code",
   "execution_count": 3,
   "id": "66c7b8be-d30f-421d-acc1-93fc1c607ad4",
   "metadata": {},
   "outputs": [],
   "source": [
    "import os\n",
    "import torch\n",
    "import pandas as pd\n",
    "from tqdm.notebook import tqdm\n",
    "from sklearn.model_selection import train_test_split\n",
    "from lightning.pytorch import Trainer, seed_everything\n",
    "from torch.utils.data import Dataset, DataLoader\n",
    "from torchvision import transforms, utils\n",
    "\n",
    "METADATA_DIRECTORY = 'metadata'\n",
    "OUTPUT_FILE = os.path.join(METADATA_DIRECTORY, 'dataset.csv')\n",
    "CHECKPOINTS_DIRECTORY = 'checkpoints'\n",
    "TEST_SIZE = 0.3\n",
    "RANDOM_STATE = 42"
   ]
  },
  {
   "cell_type": "markdown",
   "id": "15ba1d87-40de-41df-8440-d3d3ec9716dc",
   "metadata": {},
   "source": [
    "### Preparing directories"
   ]
  },
  {
   "cell_type": "code",
   "execution_count": 4,
   "id": "fce170fd-29fb-4581-a188-7c16ec1f69a4",
   "metadata": {},
   "outputs": [],
   "source": [
    "if not os.path.exists(CHECKPOINTS_DIRECTORY):\n",
    "    os.makedirs(CHECKPOINTS_DIRECTORY)"
   ]
  },
  {
   "cell_type": "markdown",
   "id": "633bb0ac-facd-41f6-8531-2e00b22ac435",
   "metadata": {},
   "source": [
    "### Loading the dataset"
   ]
  },
  {
   "cell_type": "code",
   "execution_count": 6,
   "id": "fe169f99-8434-4047-8c48-29db5eec09c1",
   "metadata": {},
   "outputs": [],
   "source": [
    "df = pd.read_csv(OUTPUT_FILE)"
   ]
  },
  {
   "cell_type": "markdown",
   "id": "a994bfa2-8809-4686-a9cb-f533da7e359d",
   "metadata": {},
   "source": [
    "### Splitting the dataset"
   ]
  },
  {
   "cell_type": "code",
   "execution_count": 7,
   "id": "d356b918-c254-44f4-9361-c36f3f28687c",
   "metadata": {},
   "outputs": [],
   "source": [
    "X_train, X_test, y_train, y_test = train_test_split(df['path'], df['class'], test_size=TEST_SIZE, random_state=RANDOM_STATE)"
   ]
  },
  {
   "cell_type": "markdown",
   "id": "2495a743-4f10-4616-834c-2f0c824da225",
   "metadata": {},
   "source": [
    "### Creating dataloaders"
   ]
  },
  {
   "cell_type": "code",
   "execution_count": null,
   "id": "f14f1d22-630e-4b1f-b7d6-3ad4e859f5b8",
   "metadata": {},
   "outputs": [],
   "source": [
    "class MuseumCountryCC0Dataset(Dataset):\n",
    "    def __init__(self, X, y, transform=None):\n",
    "        self.X = X\n",
    "        self.y = y\n",
    "        self.transform = transform\n",
    "        \n",
    "    def __len__(self):\n",
    "        return len(self.X)\n",
    "\n",
    "    def __getitem__(self, idx):\n",
    "        if torch.is_tensor(idx):\n",
    "            idx = idx.tolist()\n",
    "\n",
    "        image = io.imread(X[idx])\n",
    "        \n",
    "        if self.transform:\n",
    "            sample = self.transform(sample)\n",
    "\n",
    "        return sample"
   ]
  },
  {
   "cell_type": "markdown",
   "id": "a56b6ca9-d260-4792-9dfd-7b138326cb6c",
   "metadata": {},
   "source": [
    "### Creating the trainer"
   ]
  },
  {
   "cell_type": "code",
   "execution_count": null,
   "id": "917b9594-582d-4015-b232-d66138956e49",
   "metadata": {},
   "outputs": [],
   "source": [
    "def create_model():\n",
    "    return torch.hub.load('pytorch/vision:v0.10.0', 'resnet50', pretrained=False)\n",
    "\n",
    "trainer = Trainer()"
   ]
  },
  {
   "cell_type": "markdown",
   "id": "55697927-ec9c-40e0-b2cf-6ab37f06830d",
   "metadata": {},
   "source": [
    "### Fitting the model"
   ]
  },
  {
   "cell_type": "code",
   "execution_count": null,
   "id": "c4a078ed-1b5a-4a58-8461-020d39ab0641",
   "metadata": {},
   "outputs": [],
   "source": [
    "trainer.fit(model, train_dataloader, val_dataloader)"
   ]
  },
  {
   "cell_type": "markdown",
   "id": "5dcf96b2-cbb3-4788-a9d4-7c4f1870dad6",
   "metadata": {},
   "source": [
    "### Saving the model"
   ]
  },
  {
   "cell_type": "code",
   "execution_count": null,
   "id": "74a82e34-9418-40bc-a384-50da544f8290",
   "metadata": {},
   "outputs": [],
   "source": []
  }
 ],
 "metadata": {
  "kernelspec": {
   "display_name": "Python 3 (ipykernel)",
   "language": "python",
   "name": "python3"
  },
  "language_info": {
   "codemirror_mode": {
    "name": "ipython",
    "version": 3
   },
   "file_extension": ".py",
   "mimetype": "text/x-python",
   "name": "python",
   "nbconvert_exporter": "python",
   "pygments_lexer": "ipython3",
   "version": "3.11.6"
  }
 },
 "nbformat": 4,
 "nbformat_minor": 5
}
