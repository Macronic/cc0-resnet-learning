{
 "cells": [
  {
   "cell_type": "markdown",
   "id": "76f6fec4-c95c-42d3-9014-79ff2a9853eb",
   "metadata": {},
   "source": [
    "# Downloading Dataset from The Cleveland Museum of Art\n",
    "The museum is sharing an art collection dataset with some CC0 license, what we can use to train our CC0 ResNet backbone for other projects!\n",
    "Their github page: https://github.com/ClevelandMuseumArt/openaccess contains up-to-date metadata about the project. We'll download it, filter by the license and then download images from their server. We'll be filtering images to use only ones with lower resolution then 2000x2000px, so that we won't be using too much space on the data."
   ]
  },
  {
   "cell_type": "markdown",
   "id": "52747ec6-1bf0-4499-84ef-77a30e1e6837",
   "metadata": {},
   "source": [
    "### Constants and imports"
   ]
  },
  {
   "cell_type": "code",
   "execution_count": 1,
   "id": "74510948-f193-42d2-b150-47391136df3d",
   "metadata": {},
   "outputs": [],
   "source": [
    "import requests\n",
    "import os\n",
    "from tqdm.notebook import tqdm\n",
    "import pandas as pd\n",
    "\n",
    "CMA_GITHUB_DATA_CSV = 'https://github.com/ClevelandMuseumArt/openaccess/raw/master/data.csv'\n",
    "METADATA_DIRECTORY = 'metadata'\n",
    "DATASET_NAME = 'cma'\n",
    "RAW_METADATA_DIRECTORY = os.path.join(METADATA_DIRECTORY, 'raw')\n",
    "RAW_METADATA_DIRECTORY_FILENAME = os.path.join(RAW_METADATA_DIRECTORY, f'{DATASET_NAME}.csv')\n",
    "RAW_IMAGE_DIRECTORY = os.path.join('dataset', 'raw')\n",
    "DATASET_IMAGES_LIMIT = 50000"
   ]
  },
  {
   "cell_type": "markdown",
   "id": "6a478aae-a89a-413a-8151-f87d56fd3d99",
   "metadata": {},
   "source": [
    "### Preparing directories"
   ]
  },
  {
   "cell_type": "code",
   "execution_count": 2,
   "id": "27c48b88-9297-46a2-bd34-a08757b7e49f",
   "metadata": {},
   "outputs": [],
   "source": [
    "if not os.path.exists(RAW_IMAGE_DIRECTORY):\n",
    "    os.makedirs(RAW_IMAGE_DIRECTORY)\n",
    "\n",
    "if not os.path.exists(RAW_METADATA_DIRECTORY):\n",
    "    os.makedirs(RAW_METADATA_DIRECTORY)\n",
    "    \n",
    "if not os.path.exists(METADATA_DIRECTORY):\n",
    "    os.makedirs(METADATA_DIRECTORY)"
   ]
  },
  {
   "cell_type": "markdown",
   "id": "5ba802b1-17c5-4939-ab80-1683d536b673",
   "metadata": {},
   "source": [
    "### Downloading the raw metadata file onto the disk"
   ]
  },
  {
   "cell_type": "code",
   "execution_count": 3,
   "id": "fa61c9b2-bd09-45ee-9272-c3a918bd61b6",
   "metadata": {},
   "outputs": [],
   "source": [
    "if not os.path.exists(RAW_METADATA_DIRECTORY_FILENAME):\n",
    "    metadata_data = requests.get(CMA_GITHUB_DATA_CSV, stream=True)\n",
    "    if metadata_data.status_code == 200:\n",
    "        with open(RAW_METADATA_DIRECTORY_FILENAME, 'wb') as f:\n",
    "            for chunk in metadata_data.iter_content(2048):\n",
    "                f.write(chunk)"
   ]
  },
  {
   "cell_type": "markdown",
   "id": "723fc12e-a422-47a9-a417-ba2712b96026",
   "metadata": {},
   "source": [
    "### Loading the raw metadata file using pandas"
   ]
  },
  {
   "cell_type": "markdown",
   "id": "1d576e80-a62e-4d04-a827-0c50f4dfa090",
   "metadata": {},
   "source": [
    "### Checking existing metadata"
   ]
  },
  {
   "cell_type": "markdown",
   "id": "3f15ad26-140b-4f38-8fd1-218b94c72dfb",
   "metadata": {},
   "source": [
    "### Filtering what we have to download"
   ]
  },
  {
   "cell_type": "markdown",
   "id": "fad6d213-c400-4db7-ac71-e359e6225650",
   "metadata": {},
   "source": [
    "### Downloading it and updating the existing metadata file"
   ]
  },
  {
   "cell_type": "code",
   "execution_count": null,
   "id": "b00bf4d8-b8cc-4c79-b2c8-50ef24d65e17",
   "metadata": {},
   "outputs": [],
   "source": []
  }
 ],
 "metadata": {
  "kernelspec": {
   "display_name": "Python 3 (ipykernel)",
   "language": "python",
   "name": "python3"
  },
  "language_info": {
   "codemirror_mode": {
    "name": "ipython",
    "version": 3
   },
   "file_extension": ".py",
   "mimetype": "text/x-python",
   "name": "python",
   "nbconvert_exporter": "python",
   "pygments_lexer": "ipython3",
   "version": "3.11.6"
  }
 },
 "nbformat": 4,
 "nbformat_minor": 5
}
