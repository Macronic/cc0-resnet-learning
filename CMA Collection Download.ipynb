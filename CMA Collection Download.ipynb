{
 "cells": [
  {
   "cell_type": "markdown",
   "id": "76f6fec4-c95c-42d3-9014-79ff2a9853eb",
   "metadata": {},
   "source": [
    "# Downloading Dataset from The Cleveland Museum of Art\n",
    "The museum is sharing an art collection dataset with some CC0 license, what we can use to train our CC0 ResNet backbone for other projects!\n",
    "Their github page: https://github.com/ClevelandMuseumArt/openaccess contains up-to-date metadata about the project. We'll download it, filter by the license and then download images from their server. We'll be using only web quality ones, so that we won't be using too much space on the data."
   ]
  },
  {
   "cell_type": "markdown",
   "id": "52747ec6-1bf0-4499-84ef-77a30e1e6837",
   "metadata": {},
   "source": [
    "### Constants and imports"
   ]
  },
  {
   "cell_type": "code",
   "execution_count": 1,
   "id": "74510948-f193-42d2-b150-47391136df3d",
   "metadata": {},
   "outputs": [],
   "source": [
    "import requests\n",
    "import os\n",
    "import random\n",
    "import json\n",
    "from tqdm.notebook import tqdm\n",
    "import pandas as pd\n",
    "from atomicwrites import atomic_write\n",
    "\n",
    "CMA_GITHUB_DATA_CSV = 'https://github.com/ClevelandMuseumArt/openaccess/raw/master/data.csv'\n",
    "METADATA_DIRECTORY = 'metadata'\n",
    "DATASET_NAME = 'cma'\n",
    "RAW_METADATA_DIRECTORY = os.path.join(METADATA_DIRECTORY, 'raw')\n",
    "RAW_METADATA_DIRECTORY_FILENAME = os.path.join(RAW_METADATA_DIRECTORY, f'{DATASET_NAME}.csv')\n",
    "RAW_IMAGE_DIRECTORY = os.path.join('dataset', 'raw')\n",
    "DATASET_IMAGES_LIMIT = 70000"
   ]
  },
  {
   "cell_type": "markdown",
   "id": "6a478aae-a89a-413a-8151-f87d56fd3d99",
   "metadata": {},
   "source": [
    "### Preparing directories"
   ]
  },
  {
   "cell_type": "code",
   "execution_count": 2,
   "id": "27c48b88-9297-46a2-bd34-a08757b7e49f",
   "metadata": {},
   "outputs": [],
   "source": [
    "if not os.path.exists(RAW_IMAGE_DIRECTORY):\n",
    "    os.makedirs(RAW_IMAGE_DIRECTORY)\n",
    "\n",
    "if not os.path.exists(RAW_METADATA_DIRECTORY):\n",
    "    os.makedirs(RAW_METADATA_DIRECTORY)\n",
    "    \n",
    "if not os.path.exists(METADATA_DIRECTORY):\n",
    "    os.makedirs(METADATA_DIRECTORY)"
   ]
  },
  {
   "cell_type": "markdown",
   "id": "5ba802b1-17c5-4939-ab80-1683d536b673",
   "metadata": {},
   "source": [
    "### Downloading the raw metadata file onto the disk"
   ]
  },
  {
   "cell_type": "code",
   "execution_count": 3,
   "id": "fa61c9b2-bd09-45ee-9272-c3a918bd61b6",
   "metadata": {},
   "outputs": [],
   "source": [
    "if not os.path.exists(RAW_METADATA_DIRECTORY_FILENAME):\n",
    "    metadata_data = requests.get(CMA_GITHUB_DATA_CSV, stream=True)\n",
    "    if metadata_data.status_code == 200:\n",
    "        with open(RAW_METADATA_DIRECTORY_FILENAME, 'wb') as f:\n",
    "            for chunk in metadata_data.iter_content(2048):\n",
    "                f.write(chunk)"
   ]
  },
  {
   "cell_type": "markdown",
   "id": "723fc12e-a422-47a9-a417-ba2712b96026",
   "metadata": {},
   "source": [
    "### Loading the raw metadata file using pandas"
   ]
  },
  {
   "cell_type": "code",
   "execution_count": 4,
   "id": "586345b3-36e5-418a-b3c6-05e52cd36d61",
   "metadata": {},
   "outputs": [
    {
     "data": {
      "text/html": [
       "<div>\n",
       "<style scoped>\n",
       "    .dataframe tbody tr th:only-of-type {\n",
       "        vertical-align: middle;\n",
       "    }\n",
       "\n",
       "    .dataframe tbody tr th {\n",
       "        vertical-align: top;\n",
       "    }\n",
       "\n",
       "    .dataframe thead th {\n",
       "        text-align: right;\n",
       "    }\n",
       "</style>\n",
       "<table border=\"1\" class=\"dataframe\">\n",
       "  <thead>\n",
       "    <tr style=\"text-align: right;\">\n",
       "      <th></th>\n",
       "      <th>id</th>\n",
       "      <th>accession_number</th>\n",
       "      <th>share_license_status</th>\n",
       "      <th>tombstone</th>\n",
       "      <th>current_location</th>\n",
       "      <th>title</th>\n",
       "      <th>title_in_original_language</th>\n",
       "      <th>series</th>\n",
       "      <th>series_in_original_language</th>\n",
       "      <th>creation_date</th>\n",
       "      <th>...</th>\n",
       "      <th>alternate_images</th>\n",
       "      <th>creditline</th>\n",
       "      <th>sketchfab_id</th>\n",
       "      <th>sketchfab_url</th>\n",
       "      <th>gallery_donor_text</th>\n",
       "      <th>creators</th>\n",
       "      <th>image_web</th>\n",
       "      <th>image_print</th>\n",
       "      <th>image_full</th>\n",
       "      <th>updated_at</th>\n",
       "    </tr>\n",
       "  </thead>\n",
       "  <tbody>\n",
       "    <tr>\n",
       "      <th>0</th>\n",
       "      <td>74228</td>\n",
       "      <td>2020.113</td>\n",
       "      <td>CC0</td>\n",
       "      <td>Fishmarket, 1902. Camille Pissarro (French, 18...</td>\n",
       "      <td>&lt;NA&gt;</td>\n",
       "      <td>Fishmarket</td>\n",
       "      <td>&lt;NA&gt;</td>\n",
       "      <td>&lt;NA&gt;</td>\n",
       "      <td>&lt;NA&gt;</td>\n",
       "      <td>1902</td>\n",
       "      <td>...</td>\n",
       "      <td>[]</td>\n",
       "      <td>Nancy F. and Joseph P. Keithley Collection Gift</td>\n",
       "      <td>&lt;NA&gt;</td>\n",
       "      <td>&lt;NA&gt;</td>\n",
       "      <td>&lt;NA&gt;</td>\n",
       "      <td>Camille Pissarro (French, 1830–1903), artist</td>\n",
       "      <td>https://openaccess-cdn.clevelandart.org/2020.1...</td>\n",
       "      <td>https://openaccess-cdn.clevelandart.org/2020.1...</td>\n",
       "      <td>https://openaccess-cdn.clevelandart.org/2020.1...</td>\n",
       "      <td>2024-01-21 09:54:14.728000</td>\n",
       "    </tr>\n",
       "    <tr>\n",
       "      <th>1</th>\n",
       "      <td>74539</td>\n",
       "      <td>2015.449</td>\n",
       "      <td>CC0</td>\n",
       "      <td>A Miller's Carriage, c. 1895. Albert-Charles L...</td>\n",
       "      <td>&lt;NA&gt;</td>\n",
       "      <td>A Miller's Carriage</td>\n",
       "      <td>&lt;NA&gt;</td>\n",
       "      <td>&lt;NA&gt;</td>\n",
       "      <td>&lt;NA&gt;</td>\n",
       "      <td>c. 1895</td>\n",
       "      <td>...</td>\n",
       "      <td>[]</td>\n",
       "      <td>Bequest of Muriel Butkin</td>\n",
       "      <td>&lt;NA&gt;</td>\n",
       "      <td>&lt;NA&gt;</td>\n",
       "      <td>&lt;NA&gt;</td>\n",
       "      <td>Albert-Charles Lebourg (French, 1849–1928), ar...</td>\n",
       "      <td>https://openaccess-cdn.clevelandart.org/2015.4...</td>\n",
       "      <td>https://openaccess-cdn.clevelandart.org/2015.4...</td>\n",
       "      <td>https://openaccess-cdn.clevelandart.org/2015.4...</td>\n",
       "      <td>2024-01-21 09:54:14.734000</td>\n",
       "    </tr>\n",
       "    <tr>\n",
       "      <th>2</th>\n",
       "      <td>74540</td>\n",
       "      <td>2015.451</td>\n",
       "      <td>CC0</td>\n",
       "      <td>Leda and the Swan, c. 1846–83. Adolphe Yvon (F...</td>\n",
       "      <td>&lt;NA&gt;</td>\n",
       "      <td>Leda and the Swan</td>\n",
       "      <td>&lt;NA&gt;</td>\n",
       "      <td>&lt;NA&gt;</td>\n",
       "      <td>&lt;NA&gt;</td>\n",
       "      <td>c. 1846–83</td>\n",
       "      <td>...</td>\n",
       "      <td>[]</td>\n",
       "      <td>Bequest of Muriel Butkin</td>\n",
       "      <td>&lt;NA&gt;</td>\n",
       "      <td>&lt;NA&gt;</td>\n",
       "      <td>&lt;NA&gt;</td>\n",
       "      <td>Adolphe Yvon (French, 1817–1893), artist</td>\n",
       "      <td>https://openaccess-cdn.clevelandart.org/2015.4...</td>\n",
       "      <td>https://openaccess-cdn.clevelandart.org/2015.4...</td>\n",
       "      <td>https://openaccess-cdn.clevelandart.org/2015.4...</td>\n",
       "      <td>2024-01-21 09:54:14.739000</td>\n",
       "    </tr>\n",
       "    <tr>\n",
       "      <th>3</th>\n",
       "      <td>74551</td>\n",
       "      <td>2018.1059</td>\n",
       "      <td>CC0</td>\n",
       "      <td>The Monks, c. 1802–30. François Marius Granet ...</td>\n",
       "      <td>&lt;NA&gt;</td>\n",
       "      <td>The Monks</td>\n",
       "      <td>&lt;NA&gt;</td>\n",
       "      <td>&lt;NA&gt;</td>\n",
       "      <td>&lt;NA&gt;</td>\n",
       "      <td>c. 1802–30</td>\n",
       "      <td>...</td>\n",
       "      <td>[]</td>\n",
       "      <td>Bequest of Muriel Butkin</td>\n",
       "      <td>&lt;NA&gt;</td>\n",
       "      <td>&lt;NA&gt;</td>\n",
       "      <td>&lt;NA&gt;</td>\n",
       "      <td>François Marius Granet (French, 1775–1849), ar...</td>\n",
       "      <td>https://openaccess-cdn.clevelandart.org/2018.1...</td>\n",
       "      <td>https://openaccess-cdn.clevelandart.org/2018.1...</td>\n",
       "      <td>https://openaccess-cdn.clevelandart.org/2018.1...</td>\n",
       "      <td>2024-01-21 09:54:14.744000</td>\n",
       "    </tr>\n",
       "    <tr>\n",
       "      <th>4</th>\n",
       "      <td>74553</td>\n",
       "      <td>2018.1060</td>\n",
       "      <td>CC0</td>\n",
       "      <td>Study Sheet, c. 1870–80. Alfred Dehodencq (Fre...</td>\n",
       "      <td>&lt;NA&gt;</td>\n",
       "      <td>Study Sheet</td>\n",
       "      <td>&lt;NA&gt;</td>\n",
       "      <td>&lt;NA&gt;</td>\n",
       "      <td>&lt;NA&gt;</td>\n",
       "      <td>c. 1870–80</td>\n",
       "      <td>...</td>\n",
       "      <td>[]</td>\n",
       "      <td>Bequest of Muriel Butkin</td>\n",
       "      <td>&lt;NA&gt;</td>\n",
       "      <td>&lt;NA&gt;</td>\n",
       "      <td>&lt;NA&gt;</td>\n",
       "      <td>Alfred Dehodencq (French, 1822–1882), artist</td>\n",
       "      <td>https://openaccess-cdn.clevelandart.org/2018.1...</td>\n",
       "      <td>https://openaccess-cdn.clevelandart.org/2018.1...</td>\n",
       "      <td>https://openaccess-cdn.clevelandart.org/2018.1...</td>\n",
       "      <td>2024-01-21 09:54:14.750000</td>\n",
       "    </tr>\n",
       "  </tbody>\n",
       "</table>\n",
       "<p>5 rows × 45 columns</p>\n",
       "</div>"
      ],
      "text/plain": [
       "      id accession_number share_license_status  \\\n",
       "0  74228         2020.113                  CC0   \n",
       "1  74539         2015.449                  CC0   \n",
       "2  74540         2015.451                  CC0   \n",
       "3  74551        2018.1059                  CC0   \n",
       "4  74553        2018.1060                  CC0   \n",
       "\n",
       "                                           tombstone current_location  \\\n",
       "0  Fishmarket, 1902. Camille Pissarro (French, 18...             <NA>   \n",
       "1  A Miller's Carriage, c. 1895. Albert-Charles L...             <NA>   \n",
       "2  Leda and the Swan, c. 1846–83. Adolphe Yvon (F...             <NA>   \n",
       "3  The Monks, c. 1802–30. François Marius Granet ...             <NA>   \n",
       "4  Study Sheet, c. 1870–80. Alfred Dehodencq (Fre...             <NA>   \n",
       "\n",
       "                 title title_in_original_language series  \\\n",
       "0           Fishmarket                       <NA>   <NA>   \n",
       "1  A Miller's Carriage                       <NA>   <NA>   \n",
       "2    Leda and the Swan                       <NA>   <NA>   \n",
       "3            The Monks                       <NA>   <NA>   \n",
       "4          Study Sheet                       <NA>   <NA>   \n",
       "\n",
       "  series_in_original_language creation_date  ...  alternate_images  \\\n",
       "0                        <NA>          1902  ...                []   \n",
       "1                        <NA>       c. 1895  ...                []   \n",
       "2                        <NA>    c. 1846–83  ...                []   \n",
       "3                        <NA>    c. 1802–30  ...                []   \n",
       "4                        <NA>    c. 1870–80  ...                []   \n",
       "\n",
       "                                        creditline sketchfab_id sketchfab_url  \\\n",
       "0  Nancy F. and Joseph P. Keithley Collection Gift         <NA>          <NA>   \n",
       "1                         Bequest of Muriel Butkin         <NA>          <NA>   \n",
       "2                         Bequest of Muriel Butkin         <NA>          <NA>   \n",
       "3                         Bequest of Muriel Butkin         <NA>          <NA>   \n",
       "4                         Bequest of Muriel Butkin         <NA>          <NA>   \n",
       "\n",
       "  gallery_donor_text                                           creators  \\\n",
       "0               <NA>       Camille Pissarro (French, 1830–1903), artist   \n",
       "1               <NA>  Albert-Charles Lebourg (French, 1849–1928), ar...   \n",
       "2               <NA>           Adolphe Yvon (French, 1817–1893), artist   \n",
       "3               <NA>  François Marius Granet (French, 1775–1849), ar...   \n",
       "4               <NA>       Alfred Dehodencq (French, 1822–1882), artist   \n",
       "\n",
       "                                           image_web  \\\n",
       "0  https://openaccess-cdn.clevelandart.org/2020.1...   \n",
       "1  https://openaccess-cdn.clevelandart.org/2015.4...   \n",
       "2  https://openaccess-cdn.clevelandart.org/2015.4...   \n",
       "3  https://openaccess-cdn.clevelandart.org/2018.1...   \n",
       "4  https://openaccess-cdn.clevelandart.org/2018.1...   \n",
       "\n",
       "                                         image_print  \\\n",
       "0  https://openaccess-cdn.clevelandart.org/2020.1...   \n",
       "1  https://openaccess-cdn.clevelandart.org/2015.4...   \n",
       "2  https://openaccess-cdn.clevelandart.org/2015.4...   \n",
       "3  https://openaccess-cdn.clevelandart.org/2018.1...   \n",
       "4  https://openaccess-cdn.clevelandart.org/2018.1...   \n",
       "\n",
       "                                          image_full  \\\n",
       "0  https://openaccess-cdn.clevelandart.org/2020.1...   \n",
       "1  https://openaccess-cdn.clevelandart.org/2015.4...   \n",
       "2  https://openaccess-cdn.clevelandart.org/2015.4...   \n",
       "3  https://openaccess-cdn.clevelandart.org/2018.1...   \n",
       "4  https://openaccess-cdn.clevelandart.org/2018.1...   \n",
       "\n",
       "                   updated_at  \n",
       "0  2024-01-21 09:54:14.728000  \n",
       "1  2024-01-21 09:54:14.734000  \n",
       "2  2024-01-21 09:54:14.739000  \n",
       "3  2024-01-21 09:54:14.744000  \n",
       "4  2024-01-21 09:54:14.750000  \n",
       "\n",
       "[5 rows x 45 columns]"
      ]
     },
     "execution_count": 4,
     "metadata": {},
     "output_type": "execute_result"
    }
   ],
   "source": [
    "raw_metadata = pd.read_csv(RAW_METADATA_DIRECTORY_FILENAME, \n",
    "                           dtype={'series': 'string',\n",
    "                                  'current_location': 'string', \n",
    "                                  'series_in_original_language': 'string',\n",
    "                                  'title_in_original_language': 'string',\n",
    "                                  'sketchfab_id': 'string',\n",
    "                                  'sketchfab_url': 'string',\n",
    "                                  'gallery_donor_text': 'string',\n",
    "                                  'find_spot': 'string'})\n",
    "raw_metadata.head()"
   ]
  },
  {
   "cell_type": "code",
   "execution_count": 5,
   "id": "ea4ab4cb-c67f-476a-894e-2ad3b19029b6",
   "metadata": {},
   "outputs": [
    {
     "data": {
      "text/plain": [
       "id                                      int64\n",
       "accession_number                       object\n",
       "share_license_status                   object\n",
       "tombstone                              object\n",
       "current_location               string[python]\n",
       "title                                  object\n",
       "title_in_original_language     string[python]\n",
       "series                         string[python]\n",
       "series_in_original_language    string[python]\n",
       "creation_date                          object\n",
       "creation_date_earliest                float64\n",
       "creation_date_latest                  float64\n",
       "artists_tags                           object\n",
       "culture                                object\n",
       "technique                              object\n",
       "support_materials                      object\n",
       "department                             object\n",
       "collection                             object\n",
       "type                                   object\n",
       "measurements                           object\n",
       "state_of_the_work                      object\n",
       "edition_of_the_work                    object\n",
       "copyright                              object\n",
       "inscriptions                           object\n",
       "exhibitions                            object\n",
       "provenance                             object\n",
       "find_spot                      string[python]\n",
       "related_works                          object\n",
       "former_accession_numbers               object\n",
       "did_you_know                           object\n",
       "description                           float64\n",
       "external_resources                     object\n",
       "citations                              object\n",
       "catalogue_raisonne                     object\n",
       "url                                    object\n",
       "alternate_images                       object\n",
       "creditline                             object\n",
       "sketchfab_id                   string[python]\n",
       "sketchfab_url                  string[python]\n",
       "gallery_donor_text             string[python]\n",
       "creators                               object\n",
       "image_web                              object\n",
       "image_print                            object\n",
       "image_full                             object\n",
       "updated_at                             object\n",
       "dtype: object"
      ]
     },
     "execution_count": 5,
     "metadata": {},
     "output_type": "execute_result"
    }
   ],
   "source": [
    "raw_metadata.dtypes"
   ]
  },
  {
   "cell_type": "markdown",
   "id": "1d576e80-a62e-4d04-a827-0c50f4dfa090",
   "metadata": {},
   "source": [
    "### Checking existing metadata"
   ]
  },
  {
   "cell_type": "code",
   "execution_count": 6,
   "id": "00a9b8e3-96e2-4c0c-8f73-36228bb10fa8",
   "metadata": {},
   "outputs": [],
   "source": [
    "existing_metadata = {}\n",
    "BASIC_METADATA_PATH = os.path.join(METADATA_DIRECTORY, f'{DATASET_NAME}.json')\n",
    "\n",
    "if os.path.exists(BASIC_METADATA_PATH):\n",
    "    with open(BASIC_METADATA_PATH, 'r') as f:\n",
    "        existing_metadata = json.load(f)\n",
    "\n",
    "def save_metadata():\n",
    "    with atomic_write(BASIC_METADATA_PATH, overwrite=True) as f:\n",
    "        json.dump(existing_metadata, f)"
   ]
  },
  {
   "cell_type": "markdown",
   "id": "861dc87c-78ba-4096-912b-236da376c328",
   "metadata": {},
   "source": [
    "#### Rescuing all downloaded images that got their metadata lost \n",
    "Sometimes, running the script multiple separate times and getting a SIGINT may cause the metadata file to get cut, while the images still exists. To combat it, we try to first prepare the metadata for all existing image files."
   ]
  },
  {
   "cell_type": "code",
   "execution_count": 7,
   "id": "25b5697f-0f7b-41c6-a194-66ccb5824d3c",
   "metadata": {},
   "outputs": [],
   "source": [
    "for image in os.listdir(RAW_IMAGE_DIRECTORY):\n",
    "    if image.startswith(DATASET_NAME):\n",
    "        id = int(image.replace(f'{DATASET_NAME}_', '').replace('.jpg', ''))\n",
    "        if str(id) not in existing_metadata:\n",
    "            obj = raw_metadata[raw_metadata[\"id\"] == id].iloc[0].to_dict() \n",
    "            obj['path'] = os.path.join(RAW_IMAGE_DIRECTORY, image)\n",
    "            existing_metadata[id] = obj\n",
    "\n",
    "save_metadata()"
   ]
  },
  {
   "cell_type": "markdown",
   "id": "3f15ad26-140b-4f38-8fd1-218b94c72dfb",
   "metadata": {},
   "source": [
    "### Filtering what we have to download"
   ]
  },
  {
   "cell_type": "code",
   "execution_count": 8,
   "id": "ccb43a3c-b95f-4e83-8da0-96809a32f72a",
   "metadata": {},
   "outputs": [
    {
     "data": {
      "text/plain": [
       "(2191,)"
      ]
     },
     "execution_count": 8,
     "metadata": {},
     "output_type": "execute_result"
    }
   ],
   "source": [
    "to_download = raw_metadata[~raw_metadata['id'].isin(existing_metadata)]\n",
    "to_download = to_download[to_download['share_license_status'] == 'CC0']\n",
    "to_download = to_download[~to_download['image_web'].isna()]\n",
    "to_download = to_download['id'].sample(frac=1)\n",
    "\n",
    "to_download.shape"
   ]
  },
  {
   "cell_type": "markdown",
   "id": "fad6d213-c400-4db7-ac71-e359e6225650",
   "metadata": {},
   "source": [
    "### Downloading it and updating the existing metadata file"
   ]
  },
  {
   "cell_type": "code",
   "execution_count": 9,
   "id": "b00bf4d8-b8cc-4c79-b2c8-50ef24d65e17",
   "metadata": {},
   "outputs": [],
   "source": [
    "def download_image(url, path):\n",
    "    image_data = requests.get(url, stream=True)\n",
    "    if image_data.status_code == 200:\n",
    "        with atomic_write(path, overwrite=True, mode='wb') as f:\n",
    "            for chunk in image_data.iter_content(2048):\n",
    "                f.write(chunk)\n",
    "    "
   ]
  },
  {
   "cell_type": "code",
   "execution_count": null,
   "id": "7930787f-8029-484f-8c5d-8655c841f21b",
   "metadata": {},
   "outputs": [
    {
     "data": {
      "application/vnd.jupyter.widget-view+json": {
       "model_id": "8fbe041e3d79452d82eb63bfcd66807f",
       "version_major": 2,
       "version_minor": 0
      },
      "text/plain": [
       "  0%|          | 0/70000 [00:00<?, ?it/s]"
      ]
     },
     "metadata": {},
     "output_type": "display_data"
    }
   ],
   "source": [
    "with tqdm(total=DATASET_IMAGES_LIMIT) as pbar:\n",
    "    for id in to_download:\n",
    "        if len(existing_metadata) >= DATASET_IMAGES_LIMIT:\n",
    "            break\n",
    "        try:\n",
    "            obj = raw_metadata[raw_metadata[\"id\"] == id].iloc[0].to_dict()\n",
    "            image = obj['image_web']\n",
    "            path = os.path.join(RAW_IMAGE_DIRECTORY, f'{DATASET_NAME}_{id}.jpg')\n",
    "            download_image(image, path)\n",
    "            obj['path'] = path\n",
    "            existing_metadata[id] = obj\n",
    "            save_metadata()\n",
    "        except Exception as er:\n",
    "            print(f'Failed to download {id} image - {er}!')\n",
    "        pbar.update(len(existing_metadata) - pbar.n)"
   ]
  },
  {
   "cell_type": "code",
   "execution_count": null,
   "id": "9dacc678-b37f-4853-8215-252afb158903",
   "metadata": {},
   "outputs": [],
   "source": []
  },
  {
   "cell_type": "code",
   "execution_count": null,
   "id": "81bfc5ee-a048-4815-af4a-86a3d4ea27c7",
   "metadata": {},
   "outputs": [],
   "source": []
  }
 ],
 "metadata": {
  "kernelspec": {
   "display_name": "Python 3 (ipykernel)",
   "language": "python",
   "name": "python3"
  },
  "language_info": {
   "codemirror_mode": {
    "name": "ipython",
    "version": 3
   },
   "file_extension": ".py",
   "mimetype": "text/x-python",
   "name": "python",
   "nbconvert_exporter": "python",
   "pygments_lexer": "ipython3",
   "version": "3.11.6"
  }
 },
 "nbformat": 4,
 "nbformat_minor": 5
}
