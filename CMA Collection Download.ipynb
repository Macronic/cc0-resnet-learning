{
 "cells": [
  {
   "cell_type": "markdown",
   "id": "76f6fec4-c95c-42d3-9014-79ff2a9853eb",
   "metadata": {},
   "source": [
    "# Downloading Dataset from The Cleveland Museum of Art\n",
    "The museum is sharing an art collection dataset with some CC0 license, what we can use to train our CC0 ResNet backbone for other projects!\n",
    "Their github page: https://github.com/ClevelandMuseumArt/openaccess contains up-to-date metadata about the project. We'll download it, filter by the license and then download images from their server. We'll be filtering images to use only ones with lower resolution then 2000x2000px, so that we won't be using too much space on the data."
   ]
  },
  {
   "cell_type": "code",
   "execution_count": null,
   "id": "74510948-f193-42d2-b150-47391136df3d",
   "metadata": {},
   "outputs": [],
   "source": []
  }
 ],
 "metadata": {
  "kernelspec": {
   "display_name": "Python 3 (ipykernel)",
   "language": "python",
   "name": "python3"
  },
  "language_info": {
   "codemirror_mode": {
    "name": "ipython",
    "version": 3
   },
   "file_extension": ".py",
   "mimetype": "text/x-python",
   "name": "python",
   "nbconvert_exporter": "python",
   "pygments_lexer": "ipython3",
   "version": "3.11.6"
  }
 },
 "nbformat": 4,
 "nbformat_minor": 5
}
