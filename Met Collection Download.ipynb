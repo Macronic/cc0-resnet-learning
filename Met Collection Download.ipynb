{
 "cells": [
  {
   "cell_type": "markdown",
   "id": "19c25d05-4d3d-488b-92e1-43038fd6b35a",
   "metadata": {},
   "source": [
    "# Downloading Dataset from The Metropolitan Museum of Art\n",
    "The museum is sharing an art collection dataset with CC0, what we can use to train our CC0 ResNet backbone for other projects!\n",
    "Their website: https://metmuseum.github.io/ lists various endpoints, but we'll be mostly using one to download metadata about an object and then their images."
   ]
  },
  {
   "cell_type": "markdown",
   "id": "1331d89c-e034-4055-80bd-939719842f40",
   "metadata": {},
   "source": [
    "### Constants and imports\n"
   ]
  },
  {
   "cell_type": "code",
   "execution_count": 1,
   "id": "7b28f5f1-306d-4904-b714-b2726e750c95",
   "metadata": {},
   "outputs": [],
   "source": [
    "import requests\n",
    "import os\n",
    "from tqdm.notebook import tqdm\n",
    "import json\n",
    "BASE_URL = 'https://collectionapi.metmuseum.org'\n",
    "METADATA_DIRECTORY = 'metadata'\n",
    "RAW_IMAGE_DIRECTORY = os.path.join('dataset', 'raw')\n",
    "DATASET_NAME = 'met'"
   ]
  },
  {
   "cell_type": "markdown",
   "id": "40aa6fea-3357-4771-93fc-412ddddaee4b",
   "metadata": {},
   "source": [
    "### Preparing directories"
   ]
  },
  {
   "cell_type": "code",
   "execution_count": null,
   "id": "d43f9afc-e9c8-41f0-b396-8f3d1a8280e8",
   "metadata": {},
   "outputs": [],
   "source": [
    "if not os.path.exists(RAW_IMAGE_DIRECTORY):\n",
    "    os.makedirs(RAW_IMAGE_DIRECTORY)\n",
    "\n",
    "if not os.path.exists(METADATA_DIRECTORY):\n",
    "    os.makedirs(METADATA_DIRECTORY)"
   ]
  },
  {
   "cell_type": "markdown",
   "id": "bae14d0c-c437-48fb-b6c9-0abab675b195",
   "metadata": {},
   "source": [
    "### Downloading ObjectIDs"
   ]
  },
  {
   "cell_type": "code",
   "execution_count": 2,
   "id": "26cd61bb-7b67-4e68-bc4f-c74917acf213",
   "metadata": {},
   "outputs": [],
   "source": [
    "available_ids = requests.get(f'{BASE_URL}/public/collection/v1/objects').json()['objectIDs']"
   ]
  },
  {
   "cell_type": "code",
   "execution_count": 3,
   "id": "9d3d3d0d-7181-4083-b667-d6961e498f46",
   "metadata": {},
   "outputs": [
    {
     "name": "stdout",
     "output_type": "stream",
     "text": [
      "Object IDs count: 486419\n"
     ]
    }
   ],
   "source": [
    "print(f'Object IDs count: {len(available_ids)}')"
   ]
  },
  {
   "cell_type": "markdown",
   "id": "448003f8-95b9-4d1a-96fa-43621e52f7d0",
   "metadata": {},
   "source": [
    "### Checking existing metadata"
   ]
  },
  {
   "cell_type": "code",
   "execution_count": 4,
   "id": "6253f36e-6869-467f-8a46-4df9c24dfcfa",
   "metadata": {},
   "outputs": [],
   "source": [
    "existing_metadata = {}\n",
    "BASIC_METADATA_PATH = os.path.join(METADATA_DIRECTORY, f'{DATASET_NAME}.json')\n",
    "\n",
    "if os.path.exists(BASIC_METADATA_PATH):\n",
    "    with open(BASIC_METADATA_PATH, 'r') as f:\n",
    "        existing_metadata = json.load(f)\n",
    "\n",
    "def save_metadata():\n",
    "    with open(BASIC_METADATA_PATH, 'w') as f:\n",
    "        json.dump(existing_metadata, f)"
   ]
  },
  {
   "cell_type": "code",
   "execution_count": 5,
   "id": "1c49188b-649c-4695-8475-e7699e096f6e",
   "metadata": {},
   "outputs": [],
   "source": [
    "image_path_cache = {}\n",
    "for id in existing_metadata:\n",
    "    if 'primaryImage' in existing_metadata[id] and existing_metadata[id]['primaryImage'] != '':\n",
    "        image_path_cache[existing_metadata[id]['primaryImage']] = existing_metadata[id]['path']"
   ]
  },
  {
   "cell_type": "markdown",
   "id": "d19c0ca3-2b90-4b07-b8b5-2f9fdb9066ae",
   "metadata": {},
   "source": [
    "### Filtering what we have to download"
   ]
  },
  {
   "cell_type": "code",
   "execution_count": 6,
   "id": "7263f38a-a5b9-45d1-8b34-b21c5f4a379c",
   "metadata": {},
   "outputs": [],
   "source": [
    "to_download = []\n",
    "\n",
    "for id in available_ids:\n",
    "    if id not in existing_metadata:\n",
    "        to_download.append(id)"
   ]
  },
  {
   "cell_type": "markdown",
   "id": "33f99f1f-8f8e-4858-aea2-5105dcde5e45",
   "metadata": {},
   "source": [
    "### Downloading it and updating the existing metadata file"
   ]
  },
  {
   "cell_type": "code",
   "execution_count": 7,
   "id": "67c9a816-b2a9-489d-9614-2598ad9543b2",
   "metadata": {},
   "outputs": [],
   "source": [
    "def download_image(url, path):\n",
    "    image_data = requests.get(url, stream=True)\n",
    "    if image_data.status_code == 200:\n",
    "        with open(path, 'wb') as f:\n",
    "            for chunk in image_data.iter_content(2048):\n",
    "                f.write(chunk)"
   ]
  },
  {
   "cell_type": "code",
   "execution_count": null,
   "id": "f65c32ac-c5df-4809-937c-e73cccc9e61b",
   "metadata": {},
   "outputs": [
    {
     "data": {
      "application/vnd.jupyter.widget-view+json": {
       "model_id": "ae050743c745474fb1f561c2a57b87f4",
       "version_major": 2,
       "version_minor": 0
      },
      "text/plain": [
       "  0%|          | 0/486419 [00:00<?, ?it/s]"
      ]
     },
     "metadata": {},
     "output_type": "display_data"
    }
   ],
   "source": [
    "for id in tqdm(to_download):\n",
    "    try:\n",
    "        obj = requests.get(f'{BASE_URL}/public/collection/v1/objects/{id}').json()\n",
    "        images = []\n",
    "        if 'primaryImage' in obj and obj['primaryImage'] != '':\n",
    "            image = obj['primaryImage']\n",
    "            if image in image_path_cache:\n",
    "                obj['path'] = image_path_cache[image]\n",
    "            else:\n",
    "                path = os.path.join(RAW_IMAGE_DIRECTORY, f'{DATASET_NAME}_{id}.jpg')\n",
    "                download_image(image, path)\n",
    "                image_path_cache[image] = path\n",
    "                obj['path'] = path\n",
    "        existing_metadata[id] = obj\n",
    "        save_metadata()\n",
    "    except Exception as er:\n",
    "        print(f'Failed to download {id} image - {er}!')"
   ]
  },
  {
   "cell_type": "code",
   "execution_count": null,
   "id": "c030c40f-e4bd-4e8e-8ad9-0a661062a33e",
   "metadata": {},
   "outputs": [],
   "source": []
  }
 ],
 "metadata": {
  "kernelspec": {
   "display_name": "Python 3 (ipykernel)",
   "language": "python",
   "name": "python3"
  },
  "language_info": {
   "codemirror_mode": {
    "name": "ipython",
    "version": 3
   },
   "file_extension": ".py",
   "mimetype": "text/x-python",
   "name": "python",
   "nbconvert_exporter": "python",
   "pygments_lexer": "ipython3",
   "version": "3.11.6"
  }
 },
 "nbformat": 4,
 "nbformat_minor": 5
}
