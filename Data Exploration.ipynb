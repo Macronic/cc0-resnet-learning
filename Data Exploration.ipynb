{
 "cells": [
  {
   "cell_type": "markdown",
   "id": "0607a1bc-187a-4ed7-b916-b913e6b60057",
   "metadata": {},
   "source": [
    "# Data Exploration\n",
    "\n",
    "This notebook is more or less a sandbox made for me to understand and decide how to prepare the dataset and what target to select."
   ]
  },
  {
   "cell_type": "markdown",
   "id": "c0bc815a-c17a-4917-b98c-6a86b3723ad5",
   "metadata": {},
   "source": [
    "### Constants and imports"
   ]
  },
  {
   "cell_type": "code",
   "execution_count": null,
   "id": "1df85748-2e57-4002-855a-cffaeff3754e",
   "metadata": {},
   "outputs": [],
   "source": []
  },
  {
   "cell_type": "markdown",
   "id": "2926aab6-9675-439f-ad07-ee7f2c8e6262",
   "metadata": {},
   "source": [
    "### Loading common dataset"
   ]
  },
  {
   "cell_type": "code",
   "execution_count": null,
   "id": "bb6c0985-bed9-4d52-8fda-1555dc8a111d",
   "metadata": {},
   "outputs": [],
   "source": []
  },
  {
   "cell_type": "markdown",
   "id": "4077f436-118c-4c75-800b-6c75f647e0e6",
   "metadata": {},
   "source": [
    "### Checking technique values"
   ]
  },
  {
   "cell_type": "code",
   "execution_count": null,
   "id": "98438371-e921-42ac-9977-59d64f5a9e8f",
   "metadata": {},
   "outputs": [],
   "source": []
  },
  {
   "cell_type": "markdown",
   "id": "4c77c072-f96e-48cd-8e69-ac6153c6deda",
   "metadata": {},
   "source": [
    "### Joining similar values"
   ]
  },
  {
   "cell_type": "code",
   "execution_count": null,
   "id": "298e3f4f-41e7-416b-ada8-f24127f3226b",
   "metadata": {},
   "outputs": [],
   "source": []
  },
  {
   "cell_type": "markdown",
   "id": "06ff074b-e822-4dd2-bab6-b208de280a7f",
   "metadata": {},
   "source": [
    "### Preparing the final dataframe and dividing into train/test data"
   ]
  },
  {
   "cell_type": "code",
   "execution_count": null,
   "id": "fda1d061-44db-47af-bdeb-c06c2dfcd9f7",
   "metadata": {},
   "outputs": [],
   "source": []
  },
  {
   "cell_type": "markdown",
   "id": "92c8634c-35ed-4302-ba81-49515b9ac147",
   "metadata": {},
   "source": [
    "### Saving the .csv file"
   ]
  },
  {
   "cell_type": "code",
   "execution_count": null,
   "id": "8f4011e1-5dfc-4bc3-bf3c-820b9bf2b277",
   "metadata": {},
   "outputs": [],
   "source": []
  }
 ],
 "metadata": {
  "kernelspec": {
   "display_name": "Python 3 (ipykernel)",
   "language": "python",
   "name": "python3"
  },
  "language_info": {
   "codemirror_mode": {
    "name": "ipython",
    "version": 3
   },
   "file_extension": ".py",
   "mimetype": "text/x-python",
   "name": "python",
   "nbconvert_exporter": "python",
   "pygments_lexer": "ipython3",
   "version": "3.11.6"
  }
 },
 "nbformat": 4,
 "nbformat_minor": 5
}
