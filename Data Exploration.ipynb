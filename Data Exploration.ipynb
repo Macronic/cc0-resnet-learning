{
 "cells": [
  {
   "cell_type": "markdown",
   "id": "0607a1bc-187a-4ed7-b916-b913e6b60057",
   "metadata": {},
   "source": [
    "# Data Exploration\n",
    "\n",
    "This notebook is more or less a sandbox made for me to understand and decide how to prepare the dataset and what target to select."
   ]
  },
  {
   "cell_type": "markdown",
   "id": "c0bc815a-c17a-4917-b98c-6a86b3723ad5",
   "metadata": {},
   "source": [
    "### Constants and imports"
   ]
  },
  {
   "cell_type": "code",
   "execution_count": 1,
   "id": "1df85748-2e57-4002-855a-cffaeff3754e",
   "metadata": {},
   "outputs": [],
   "source": [
    "import os\n",
    "import pandas as pd\n",
    "import pycountry\n",
    "import pygwalker as pyg\n",
    "\n",
    "METADATA_DIRECTORY = 'metadata'\n",
    "JOINED_METADATA_FILE = os.path.join(METADATA_DIRECTORY, 'metadata_joined.csv')"
   ]
  },
  {
   "cell_type": "markdown",
   "id": "2926aab6-9675-439f-ad07-ee7f2c8e6262",
   "metadata": {},
   "source": [
    "### Loading common dataset"
   ]
  },
  {
   "cell_type": "code",
   "execution_count": 2,
   "id": "bb6c0985-bed9-4d52-8fda-1555dc8a111d",
   "metadata": {},
   "outputs": [
    {
     "data": {
      "text/html": [
       "<div>\n",
       "<style scoped>\n",
       "    .dataframe tbody tr th:only-of-type {\n",
       "        vertical-align: middle;\n",
       "    }\n",
       "\n",
       "    .dataframe tbody tr th {\n",
       "        vertical-align: top;\n",
       "    }\n",
       "\n",
       "    .dataframe thead th {\n",
       "        text-align: right;\n",
       "    }\n",
       "</style>\n",
       "<table border=\"1\" class=\"dataframe\">\n",
       "  <thead>\n",
       "    <tr style=\"text-align: right;\">\n",
       "      <th></th>\n",
       "      <th>id</th>\n",
       "      <th>title</th>\n",
       "      <th>date</th>\n",
       "      <th>begin_date</th>\n",
       "      <th>end_date</th>\n",
       "      <th>culture</th>\n",
       "      <th>technique</th>\n",
       "      <th>type</th>\n",
       "      <th>department</th>\n",
       "      <th>collection</th>\n",
       "      <th>path</th>\n",
       "    </tr>\n",
       "  </thead>\n",
       "  <tbody>\n",
       "    <tr>\n",
       "      <th>0</th>\n",
       "      <td>cma_122190</td>\n",
       "      <td>Long Sampler</td>\n",
       "      <td>c. 1650–70</td>\n",
       "      <td>NaN</td>\n",
       "      <td>NaN</td>\n",
       "      <td>England, 17th century</td>\n",
       "      <td>embroidery: silk on linen tabby ground</td>\n",
       "      <td>Sampler</td>\n",
       "      <td>Textiles</td>\n",
       "      <td>Textiles</td>\n",
       "      <td>dataset/raw/cma_122190.jpg</td>\n",
       "    </tr>\n",
       "    <tr>\n",
       "      <th>1</th>\n",
       "      <td>cma_171485</td>\n",
       "      <td>Vanity Fair: Statesman, No. 57 \"A man of Fashi...</td>\n",
       "      <td>1870</td>\n",
       "      <td>NaN</td>\n",
       "      <td>NaN</td>\n",
       "      <td>Italy, 19th century</td>\n",
       "      <td>color lithograph</td>\n",
       "      <td>Print</td>\n",
       "      <td>Prints</td>\n",
       "      <td>PR - Lithograph</td>\n",
       "      <td>dataset/raw/cma_171485.jpg</td>\n",
       "    </tr>\n",
       "    <tr>\n",
       "      <th>2</th>\n",
       "      <td>cma_161711</td>\n",
       "      <td>Cellarette</td>\n",
       "      <td>c. 1840</td>\n",
       "      <td>NaN</td>\n",
       "      <td>NaN</td>\n",
       "      <td>America, New York</td>\n",
       "      <td>chiefly rosewood veneer with pine and poplar s...</td>\n",
       "      <td>Furniture and woodwork</td>\n",
       "      <td>Decorative Art and Design</td>\n",
       "      <td>Furniture</td>\n",
       "      <td>dataset/raw/cma_161711.jpg</td>\n",
       "    </tr>\n",
       "    <tr>\n",
       "      <th>3</th>\n",
       "      <td>cma_102749</td>\n",
       "      <td>Gradual</td>\n",
       "      <td>c. 1520</td>\n",
       "      <td>NaN</td>\n",
       "      <td>NaN</td>\n",
       "      <td>Italy, Verona</td>\n",
       "      <td>Ink, tempera, and gold on vellum; wood binding</td>\n",
       "      <td>Manuscript</td>\n",
       "      <td>Medieval Art</td>\n",
       "      <td>MED - Manuscript Illuminations</td>\n",
       "      <td>dataset/raw/cma_102749.jpg</td>\n",
       "    </tr>\n",
       "    <tr>\n",
       "      <th>4</th>\n",
       "      <td>cma_101229</td>\n",
       "      <td>Fragment</td>\n",
       "      <td>1800s</td>\n",
       "      <td>NaN</td>\n",
       "      <td>NaN</td>\n",
       "      <td>China, 19th century</td>\n",
       "      <td>silk</td>\n",
       "      <td>Textile</td>\n",
       "      <td>Textiles</td>\n",
       "      <td>Textiles</td>\n",
       "      <td>dataset/raw/cma_101229.jpg</td>\n",
       "    </tr>\n",
       "  </tbody>\n",
       "</table>\n",
       "</div>"
      ],
      "text/plain": [
       "           id                                              title        date  \\\n",
       "0  cma_122190                                       Long Sampler  c. 1650–70   \n",
       "1  cma_171485  Vanity Fair: Statesman, No. 57 \"A man of Fashi...        1870   \n",
       "2  cma_161711                                         Cellarette     c. 1840   \n",
       "3  cma_102749                                            Gradual     c. 1520   \n",
       "4  cma_101229                                           Fragment       1800s   \n",
       "\n",
       "   begin_date  end_date                culture  \\\n",
       "0         NaN       NaN  England, 17th century   \n",
       "1         NaN       NaN    Italy, 19th century   \n",
       "2         NaN       NaN      America, New York   \n",
       "3         NaN       NaN          Italy, Verona   \n",
       "4         NaN       NaN    China, 19th century   \n",
       "\n",
       "                                           technique                    type  \\\n",
       "0             embroidery: silk on linen tabby ground                 Sampler   \n",
       "1                                   color lithograph                   Print   \n",
       "2  chiefly rosewood veneer with pine and poplar s...  Furniture and woodwork   \n",
       "3     Ink, tempera, and gold on vellum; wood binding              Manuscript   \n",
       "4                                               silk                 Textile   \n",
       "\n",
       "                  department                      collection  \\\n",
       "0                   Textiles                        Textiles   \n",
       "1                     Prints                 PR - Lithograph   \n",
       "2  Decorative Art and Design                       Furniture   \n",
       "3               Medieval Art  MED - Manuscript Illuminations   \n",
       "4                   Textiles                        Textiles   \n",
       "\n",
       "                         path  \n",
       "0  dataset/raw/cma_122190.jpg  \n",
       "1  dataset/raw/cma_171485.jpg  \n",
       "2  dataset/raw/cma_161711.jpg  \n",
       "3  dataset/raw/cma_102749.jpg  \n",
       "4  dataset/raw/cma_101229.jpg  "
      ]
     },
     "execution_count": 2,
     "metadata": {},
     "output_type": "execute_result"
    }
   ],
   "source": [
    "df = pd.read_csv(JOINED_METADATA_FILE)\n",
    "\n",
    "df.head()"
   ]
  },
  {
   "cell_type": "markdown",
   "id": "4077f436-118c-4c75-800b-6c75f647e0e6",
   "metadata": {},
   "source": [
    "### Checking type values"
   ]
  },
  {
   "cell_type": "code",
   "execution_count": 3,
   "id": "98438371-e921-42ac-9977-59d64f5a9e8f",
   "metadata": {},
   "outputs": [
    {
     "data": {
      "application/vnd.jupyter.widget-view+json": {
       "model_id": "9c995a44201e4480aec3205fc35783b3",
       "version_major": 2,
       "version_minor": 0
      },
      "text/plain": [
       "Box(children=(HTML(value='<div id=\"ifr-pyg-0006100a5c150824UC7yWNp2dLYlKbBR\" style=\"height: auto\">\\n    <head>…"
      ]
     },
     "metadata": {},
     "output_type": "display_data"
    },
    {
     "data": {
      "text/html": [],
      "text/plain": [
       "<IPython.core.display.HTML object>"
      ]
     },
     "metadata": {},
     "output_type": "display_data"
    }
   ],
   "source": [
    "walker = pyg.walk(df)"
   ]
  },
  {
   "cell_type": "markdown",
   "id": "4c77c072-f96e-48cd-8e69-ac6153c6deda",
   "metadata": {},
   "source": [
    "### Extracting culture values"
   ]
  },
  {
   "cell_type": "code",
   "execution_count": null,
   "id": "298e3f4f-41e7-416b-ada8-f24127f3226b",
   "metadata": {},
   "outputs": [
    {
     "name": "stdout",
     "output_type": "stream",
     "text": [
      "SubdivisionHierarchy(code='GB-ENG', country_code='GB', name='England', parent_code=None, type='Country')\n",
      "SubdivisionHierarchy(code='GB-ENG', country_code='GB', name='England', parent_code=None, type='Country')\n",
      "SubdivisionHierarchy(code='GB-ENG', country_code='GB', name='England', parent_code=None, type='Country')\n",
      "SubdivisionHierarchy(code='MX-MEX', country_code='MX', name='México', parent_code=None, type='State')\n",
      "SubdivisionHierarchy(code='MX-MEX', country_code='MX', name='México', parent_code=None, type='State')\n",
      "SubdivisionHierarchy(code='US-CA', country_code='US', name='California', parent_code=None, type='State')\n",
      "SubdivisionHierarchy(code='MX-MEX', country_code='MX', name='México', parent_code=None, type='State')\n",
      "SubdivisionHierarchy(code='US-CA', country_code='US', name='California', parent_code=None, type='State')\n",
      "SubdivisionHierarchy(code='MX-MEX', country_code='MX', name='México', parent_code=None, type='State')\n",
      "SubdivisionHierarchy(code='MX-MEX', country_code='MX', name='México', parent_code=None, type='State')\n",
      "SubdivisionHierarchy(code='MX-MEX', country_code='MX', name='México', parent_code=None, type='State')\n",
      "SubdivisionHierarchy(code='MX-MEX', country_code='MX', name='México', parent_code=None, type='State')\n",
      "SubdivisionHierarchy(code='GT-GU', country_code='GT', name='Guatemala', parent_code=None, type='Department')\n",
      "SubdivisionHierarchy(code='MX-MEX', country_code='MX', name='México', parent_code=None, type='State')\n",
      "SubdivisionHierarchy(code='US-CA', country_code='US', name='California', parent_code=None, type='State')\n",
      "SubdivisionHierarchy(code='US-CA', country_code='US', name='California', parent_code=None, type='State')\n",
      "SubdivisionHierarchy(code='GT-GU', country_code='GT', name='Guatemala', parent_code=None, type='Department')\n",
      "SubdivisionHierarchy(code='MX-MEX', country_code='MX', name='México', parent_code=None, type='State')\n",
      "SubdivisionHierarchy(code='MX-MEX', country_code='MX', name='México', parent_code=None, type='State')\n",
      "SubdivisionHierarchy(code='US-CA', country_code='US', name='California', parent_code=None, type='State')\n",
      "SubdivisionHierarchy(code='MX-MEX', country_code='MX', name='México', parent_code=None, type='State')\n",
      "SubdivisionHierarchy(code='MX-MEX', country_code='MX', name='México', parent_code=None, type='State')\n",
      "SubdivisionHierarchy(code='MX-MEX', country_code='MX', name='México', parent_code=None, type='State')\n",
      "SubdivisionHierarchy(code='MX-MEX', country_code='MX', name='México', parent_code=None, type='State')\n",
      "SubdivisionHierarchy(code='MX-MEX', country_code='MX', name='México', parent_code=None, type='State')\n",
      "SubdivisionHierarchy(code='MX-MEX', country_code='MX', name='México', parent_code=None, type='State')\n"
     ]
    }
   ],
   "source": [
    "country_names = [x.name for x in list(pycountry.countries)] + [x.name for x in list(pycountry.historic_countries)]\n",
    "\n",
    "map_cache = {}\n",
    "\n",
    "def mapping(x):\n",
    "    if x in map_cache:\n",
    "        return map_cache[x]\n",
    "    try:\n",
    "        result = pycountry.countries.search_fuzzy(x)[0]\n",
    "        if 'country' in result:\n",
    "            result = result.country.name\n",
    "        else:\n",
    "            result = result.name\n",
    "        map_cache[x] = result\n",
    "        return result\n",
    "    except:\n",
    "        try:\n",
    "            result = pycountry.historic_countries.search_fuzzy(x)[0]\n",
    "            if 'country' in result:\n",
    "                result = result.country.name\n",
    "            else:\n",
    "                result = result.name\n",
    "            map_cache[x] = result\n",
    "            return result\n",
    "        except:\n",
    "            y = x.split(',')[0]\n",
    "            if y in map_cache:\n",
    "                map_cache[x] = map_cache[y]\n",
    "                return map_cache[y]\n",
    "            try:\n",
    "                result = pycountry.countries.search_fuzzy(y)[0]\n",
    "                if 'country' in result:\n",
    "                    result = result.country.name\n",
    "                else:\n",
    "                    result = result.name\n",
    "                map_cache[x] = result\n",
    "                return result\n",
    "            except:\n",
    "                try:\n",
    "                    result = pycountry.historic_countries.search_fuzzy(y)[0]\n",
    "                    if 'country' in result:\n",
    "                        result = result.country.name\n",
    "                    else:\n",
    "                        result = result.name\n",
    "                    map_cache[x] = result\n",
    "                    return result\n",
    "                except:\n",
    "                    map_cache[x] = None\n",
    "                    return None\n",
    "    map_cache[x] = None\n",
    "    return None\n",
    "\n",
    "df['country'] = df['culture'].map(mapping)"
   ]
  },
  {
   "cell_type": "code",
   "execution_count": null,
   "id": "60fdcc7e-7800-4d29-b0bf-5645936e337c",
   "metadata": {},
   "outputs": [],
   "source": [
    "df['country']"
   ]
  },
  {
   "cell_type": "markdown",
   "id": "06ff074b-e822-4dd2-bab6-b208de280a7f",
   "metadata": {},
   "source": [
    "### Preparing the final dataframe and dividing into train/test data"
   ]
  },
  {
   "cell_type": "code",
   "execution_count": null,
   "id": "fda1d061-44db-47af-bdeb-c06c2dfcd9f7",
   "metadata": {},
   "outputs": [],
   "source": []
  },
  {
   "cell_type": "markdown",
   "id": "92c8634c-35ed-4302-ba81-49515b9ac147",
   "metadata": {},
   "source": [
    "### Saving the .csv file"
   ]
  },
  {
   "cell_type": "code",
   "execution_count": null,
   "id": "8f4011e1-5dfc-4bc3-bf3c-820b9bf2b277",
   "metadata": {},
   "outputs": [],
   "source": []
  }
 ],
 "metadata": {
  "kernelspec": {
   "display_name": "Python 3 (ipykernel)",
   "language": "python",
   "name": "python3"
  },
  "language_info": {
   "codemirror_mode": {
    "name": "ipython",
    "version": 3
   },
   "file_extension": ".py",
   "mimetype": "text/x-python",
   "name": "python",
   "nbconvert_exporter": "python",
   "pygments_lexer": "ipython3",
   "version": "3.11.6"
  }
 },
 "nbformat": 4,
 "nbformat_minor": 5
}
