{
 "cells": [
  {
   "cell_type": "markdown",
   "id": "807baa57-8cab-4439-b9d1-28a33fa97827",
   "metadata": {},
   "source": [
    "# Downloading Dataset from The National Gallery of Art\n",
    "The gallery is sharing an art collection dataset with CC0, what we can use to train our CC0 ResNet backbone for other projects!\n",
    "\n",
    "Their github page: https://github.com/NationalGalleryOfArt/opendata contains .csv files for the artworks, and we'll be downloading two of them and processing, downloading images of some of the artworks.\n",
    "\n",
    "General data is stored in objects.csv data, and links to the images in published_images.csv data, they're joined together by uuid."
   ]
  },
  {
   "cell_type": "markdown",
   "id": "0fd3640c-96e0-47ce-b52a-dcbe4cd543c5",
   "metadata": {},
   "source": [
    "### Constants and imports"
   ]
  },
  {
   "cell_type": "code",
   "execution_count": null,
   "id": "0c96ae55-11a1-499e-8e66-f4850e543fa7",
   "metadata": {},
   "outputs": [],
   "source": [
    "import requests\n",
    "import os\n",
    "import random\n",
    "import json\n",
    "from tqdm.notebook import tqdm\n",
    "import pandas as pd\n",
    "\n",
    "CMA_GITHUB_OBJECT_DATA_CSV = 'https://github.com/NationalGalleryOfArt/opendata/raw/main/data/objects.csv'\n",
    "CMA_GITHUB_IMAGES_DATA_CSV = 'https://github.com/NationalGalleryOfArt/opendata/raw/main/data/published_images.csv'\n",
    "METADATA_DIRECTORY = 'metadata'\n",
    "DATASET_NAME = 'nga'\n",
    "RAW_METADATA_DIRECTORY = os.path.join(METADATA_DIRECTORY, 'raw')\n",
    "RAW_METADATA_DIRECTORY_FILENAME = os.path.join(RAW_METADATA_DIRECTORY, f'{DATASET_NAME}.csv')\n",
    "RAW_IMAGE_DIRECTORY = os.path.join('dataset', 'raw')\n",
    "DATASET_IMAGES_LIMIT = 30000"
   ]
  },
  {
   "cell_type": "markdown",
   "id": "f7c38d69-9803-4ddb-b84f-2c7fa52d6bdc",
   "metadata": {},
   "source": [
    "### Preparing directories"
   ]
  },
  {
   "cell_type": "code",
   "execution_count": null,
   "id": "9b3824a4-7dbd-4327-834c-aeaa6de79580",
   "metadata": {},
   "outputs": [],
   "source": [
    "if not os.path.exists(RAW_IMAGE_DIRECTORY):\n",
    "    os.makedirs(RAW_IMAGE_DIRECTORY)\n",
    "\n",
    "if not os.path.exists(RAW_METADATA_DIRECTORY):\n",
    "    os.makedirs(RAW_METADATA_DIRECTORY)\n",
    "    \n",
    "if not os.path.exists(METADATA_DIRECTORY):\n",
    "    os.makedirs(METADATA_DIRECTORY)"
   ]
  },
  {
   "cell_type": "markdown",
   "id": "ee48d291-9832-4a4d-97b2-03b955f6b42a",
   "metadata": {},
   "source": [
    "### Downloading the raw metadata file onto the disk"
   ]
  },
  {
   "cell_type": "code",
   "execution_count": null,
   "id": "3283980d-c014-43a6-92fa-7c753ff7c228",
   "metadata": {},
   "outputs": [],
   "source": []
  },
  {
   "cell_type": "markdown",
   "id": "7208583b-e820-463c-a5b1-073df20b6735",
   "metadata": {},
   "source": [
    "### Loading the raw metadata file using pandas"
   ]
  },
  {
   "cell_type": "code",
   "execution_count": null,
   "id": "b59ed4de-c777-4463-8343-e90f6ca88b36",
   "metadata": {},
   "outputs": [],
   "source": []
  },
  {
   "cell_type": "markdown",
   "id": "97ecb3f6-819f-41d5-a382-c65251485467",
   "metadata": {},
   "source": [
    "### Checking existing metadata"
   ]
  },
  {
   "cell_type": "code",
   "execution_count": null,
   "id": "420c97d0-cc9e-43c6-a27f-f5a020fd9759",
   "metadata": {},
   "outputs": [],
   "source": []
  },
  {
   "cell_type": "markdown",
   "id": "24197bd7-3aee-46cd-a112-7296409fb8a3",
   "metadata": {},
   "source": [
    "### Filtering what we have to download"
   ]
  },
  {
   "cell_type": "code",
   "execution_count": null,
   "id": "1ba3897c-8a82-4803-81a2-40306c31e9e0",
   "metadata": {},
   "outputs": [],
   "source": []
  },
  {
   "cell_type": "markdown",
   "id": "b321f45a-3e5f-46f8-9646-2ca3168387e8",
   "metadata": {},
   "source": [
    "### Downloading it and updating the existing metadata file"
   ]
  },
  {
   "cell_type": "code",
   "execution_count": null,
   "id": "a4080bd4-4f62-4865-a650-e99da81d4e4d",
   "metadata": {},
   "outputs": [],
   "source": []
  }
 ],
 "metadata": {
  "kernelspec": {
   "display_name": "Python 3 (ipykernel)",
   "language": "python",
   "name": "python3"
  },
  "language_info": {
   "codemirror_mode": {
    "name": "ipython",
    "version": 3
   },
   "file_extension": ".py",
   "mimetype": "text/x-python",
   "name": "python",
   "nbconvert_exporter": "python",
   "pygments_lexer": "ipython3",
   "version": "3.11.6"
  }
 },
 "nbformat": 4,
 "nbformat_minor": 5
}
