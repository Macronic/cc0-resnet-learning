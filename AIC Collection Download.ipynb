{
 "cells": [
  {
   "cell_type": "markdown",
   "id": "89638815-254c-4680-8a74-57808cbc8fac",
   "metadata": {},
   "source": [
    "# Downloading Dataset from The Art Institute of Chicago\n",
    "This museum is also sharing an art collection dataset with some CC0 license, what we can use to train our CC0 ResNet backbone for other projects!\n",
    "Their github page: https://github.com/art-institute-of-chicago/api-data contains metadata for us to download, and they encourage for us to use it for downloading a larger dataset - exactly what we want to do. Keep in mind that this metadata weighs almost 2 GB after uncompressing.\n",
    "\n",
    "We'll be downloading them in 843 size, as supposedly, it has a large chance to result in a cache hit. In the end, we scale images to 224x224, so that quality should be enough.\n",
    "\n",
    "As requested, we wait a second before each request and we don't multithread them."
   ]
  },
  {
   "cell_type": "markdown",
   "id": "23038bd8-6773-4b4a-8913-8b155fd915cc",
   "metadata": {},
   "source": [
    "### Constants and imports"
   ]
  },
  {
   "cell_type": "code",
   "execution_count": 1,
   "id": "8a49c732-1bf5-4a8c-b69c-504eac0442ab",
   "metadata": {},
   "outputs": [],
   "source": [
    "import requests\n",
    "import os\n",
    "import random\n",
    "import json\n",
    "from tqdm.notebook import tqdm\n",
    "import pandas as pd\n",
    "import shutil\n",
    "from time import sleep\n",
    "from atomicwrites import atomic_write\n",
    "\n",
    "AIC_DATA_TARBZ = 'https://artic-api-data.s3.amazonaws.com/artic-api-data.tar.bz2'\n",
    "METADATA_DIRECTORY = 'metadata'\n",
    "DATASET_NAME = 'aic'\n",
    "RAW_METADATA_DIRECTORY = os.path.join(METADATA_DIRECTORY, 'raw')\n",
    "RAW_METADATA_ZIPPED_FILENAME = os.path.join(RAW_METADATA_DIRECTORY, 'aic.tar.bz2')\n",
    "RAW_METADATA_UNZIP_LOCATION = os.path.join(RAW_METADATA_DIRECTORY, DATASET_NAME)\n",
    "RAW_METADATA_JSON_LOCATION = os.path.join(RAW_METADATA_UNZIP_LOCATION, 'artic-api-data', 'json')\n",
    "RAW_ARTWORKS_METADATA_DIRECTORY = os.path.join(RAW_METADATA_JSON_LOCATION, 'artworks')\n",
    "RAW_IMAGES_METADATA_DIRECTORY = os.path.join(RAW_METADATA_JSON_LOCATION, 'images')\n",
    "RAW_IMAGE_DIRECTORY = os.path.join('dataset', 'raw')\n",
    "\n",
    "BASE_URL = 'https://www.artic.edu/iiif/2/'\n",
    "DATASET_IMAGES_LIMIT = 70000\n",
    "IMAGE_WIDTH = 843\n",
    "DOWNLOADING_SAVE_PERIOD = 5"
   ]
  },
  {
   "cell_type": "markdown",
   "id": "4f7ed24a-566c-4791-880a-81550a79b9df",
   "metadata": {},
   "source": [
    "### Preparing directories"
   ]
  },
  {
   "cell_type": "code",
   "execution_count": 2,
   "id": "87731522-b2a3-4592-8052-7a334aa97fd6",
   "metadata": {},
   "outputs": [],
   "source": [
    " \n",
    "if not os.path.exists(RAW_METADATA_DIRECTORY):\n",
    "    os.makedirs(RAW_METADATA_DIRECTORY)\n"
   ]
  },
  {
   "cell_type": "markdown",
   "id": "d32c0227-cc5d-4589-9b48-990daaf49fd6",
   "metadata": {},
   "source": [
    "### Downloading the compressed file onto the disk"
   ]
  },
  {
   "cell_type": "code",
   "execution_count": 3,
   "id": "9deb54a6-e508-469d-a78d-09ae3f877b42",
   "metadata": {},
   "outputs": [],
   "source": [
    "if not os.path.exists(RAW_METADATA_ZIPPED_FILENAME):\n",
    "    metadata_data = requests.get(AIC_DATA_TARBZ, stream=True)\n",
    "    if metadata_data.status_code == 200:\n",
    "        with open(RAW_METADATA_ZIPPED_FILENAME, 'wb') as f:\n",
    "            for chunk in metadata_data.iter_content(2048):\n",
    "                f.write(chunk)\n"
   ]
  },
  {
   "cell_type": "markdown",
   "id": "c75dde2c-0001-4384-84d9-c86f9f4b2992",
   "metadata": {},
   "source": [
    "### Unzipping the compressed file"
   ]
  },
  {
   "cell_type": "code",
   "execution_count": 4,
   "id": "36889fda-9a16-4e7b-8b56-c3e544baa712",
   "metadata": {},
   "outputs": [],
   "source": [
    "if not os.path.exists(RAW_METADATA_UNZIP_LOCATION) or (os.listdir(RAW_METADATA_UNZIP_LOCATION)) == 0:\n",
    "    shutil.unpack_archive(RAW_METADATA_ZIPPED_FILENAME, RAW_METADATA_UNZIP_LOCATION)"
   ]
  },
  {
   "cell_type": "markdown",
   "id": "30446812-23fa-4dee-80ec-fdd830ec59a0",
   "metadata": {},
   "source": [
    "### Loading JSONs into an array"
   ]
  },
  {
   "cell_type": "code",
   "execution_count": 5,
   "id": "ba4fedaa-2a17-43c3-94fd-54bea5522b93",
   "metadata": {},
   "outputs": [],
   "source": [
    "main_metadata = {}\n",
    "\n",
    "if os.path.exists(RAW_ARTWORKS_METADATA_DIRECTORY):\n",
    "    for file in os.listdir(RAW_ARTWORKS_METADATA_DIRECTORY):\n",
    "        with open(os.path.join(RAW_ARTWORKS_METADATA_DIRECTORY, file), 'r') as f:\n",
    "            main_metadata[file.replace('.json', '')] = json.load(f)"
   ]
  },
  {
   "cell_type": "code",
   "execution_count": 6,
   "id": "65bc0856-16b1-4e4e-9a67-f0ecb8c201b5",
   "metadata": {},
   "outputs": [],
   "source": [
    "images = {}\n",
    "\n",
    "if os.path.exists(RAW_IMAGES_METADATA_DIRECTORY):\n",
    "    for file in os.listdir(RAW_IMAGES_METADATA_DIRECTORY):\n",
    "        with open(os.path.join(RAW_IMAGES_METADATA_DIRECTORY, file), 'r') as f:\n",
    "            image_metadata = json.load(f)\n",
    "            for artwork_id in image_metadata['artwork_ids']:\n",
    "                images[str(artwork_id)] = image_metadata"
   ]
  },
  {
   "cell_type": "markdown",
   "id": "b576e776-8c85-4d5b-a2ad-7f9d8a652ca8",
   "metadata": {},
   "source": [
    "### Filtering the data to only public domain and have an image"
   ]
  },
  {
   "cell_type": "code",
   "execution_count": 7,
   "id": "938d216d-e04e-48b9-b93f-989b136ac5d4",
   "metadata": {},
   "outputs": [],
   "source": [
    "valid_artworks = []\n",
    "\n",
    "for artwork_id in main_metadata:\n",
    "    if artwork_id not in images or 'is_public_domain' not in main_metadata[artwork_id] or main_metadata[artwork_id]['is_public_domain'] != True:\n",
    "        continue\n",
    "    valid_artworks.append(artwork_id)"
   ]
  },
  {
   "cell_type": "markdown",
   "id": "18cc28c0-527d-499e-b23f-cd64d102677a",
   "metadata": {},
   "source": [
    "### Checking existing metadata"
   ]
  },
  {
   "cell_type": "code",
   "execution_count": 9,
   "id": "ab449a4d-5037-4e44-bb27-3198f2b0b02f",
   "metadata": {},
   "outputs": [],
   "source": [
    "existing_metadata = {}\n",
    "BASIC_METADATA_PATH = os.path.join(METADATA_DIRECTORY, f'{DATASET_NAME}.json')\n",
    "\n",
    "if os.path.exists(BASIC_METADATA_PATH):\n",
    "    with open(BASIC_METADATA_PATH, 'r') as f:\n",
    "        existing_metadata = json.load(f)\n",
    "\n",
    "def save_metadata():\n",
    "    with atomic_write(BASIC_METADATA_PATH, overwrite=True) as f:\n",
    "        json.dump(existing_metadata, f)"
   ]
  },
  {
   "cell_type": "markdown",
   "id": "705eaa32-f24e-4630-83b3-8bffc97c81c2",
   "metadata": {},
   "source": [
    "### Filtering what we have to download"
   ]
  },
  {
   "cell_type": "code",
   "execution_count": 10,
   "id": "e5e1af7d-8258-4cb9-8e6e-4b32063c6cde",
   "metadata": {},
   "outputs": [
    {
     "data": {
      "text/plain": [
       "56961"
      ]
     },
     "execution_count": 10,
     "metadata": {},
     "output_type": "execute_result"
    }
   ],
   "source": [
    "to_download = []\n",
    "image_path_cache = {}\n",
    "\n",
    "for id in valid_artworks:\n",
    "    if id not in existing_metadata:\n",
    "        to_download.append(id)\n",
    "    else:\n",
    "        image_path_cache[existing_metadata['image_id']] = existing_metadata['path']\n",
    "\n",
    "len(to_download)"
   ]
  },
  {
   "cell_type": "markdown",
   "id": "4a5e13d0-0040-4bbf-8a17-7325d43bf88d",
   "metadata": {},
   "source": [
    "### Downloading it and updating the existing metadata file"
   ]
  },
  {
   "cell_type": "code",
   "execution_count": 11,
   "id": "958582ba-d41d-48f8-a9cb-d9ccadfa81e9",
   "metadata": {},
   "outputs": [],
   "source": [
    "def download_image(url, path):\n",
    "    if os.path.exists(path):\n",
    "        return\n",
    "    image_data = requests.get(url, stream=True)\n",
    "    if image_data.status_code == 200:\n",
    "        with atomic_write(path, overwrite=True, mode='wb') as f:\n",
    "            for chunk in image_data.iter_content(2048):\n",
    "                f.write(chunk)"
   ]
  },
  {
   "cell_type": "code",
   "execution_count": 13,
   "id": "2ea8323b-043b-4d99-af31-01a6b5762787",
   "metadata": {},
   "outputs": [
    {
     "data": {
      "application/vnd.jupyter.widget-view+json": {
       "model_id": "81df1bfa6d7743429053316d7b9caed7",
       "version_major": 2,
       "version_minor": 0
      },
      "text/plain": [
       "  0%|          | 0/70000 [00:00<?, ?it/s]"
      ]
     },
     "metadata": {},
     "output_type": "display_data"
    },
    {
     "name": "stdout",
     "output_type": "stream",
     "text": [
      "Failed to download 9016 image - ('Connection aborted.', RemoteDisconnected('Remote end closed connection without response'))!\n",
      "Failed to download 116372 image - ('Connection aborted.', ConnectionResetError(104, 'Connection reset by peer'))!\n",
      "Failed to download 67924 image - ('Connection aborted.', ConnectionResetError(104, 'Connection reset by peer'))!\n",
      "Failed to download 128703 image - ('Connection aborted.', RemoteDisconnected('Remote end closed connection without response'))!\n",
      "Failed to download 117249 image - ('Connection aborted.', RemoteDisconnected('Remote end closed connection without response'))!\n"
     ]
    },
    {
     "ename": "KeyboardInterrupt",
     "evalue": "",
     "output_type": "error",
     "traceback": [
      "\u001b[0;31m---------------------------------------------------------------------------\u001b[0m",
      "\u001b[0;31mKeyboardInterrupt\u001b[0m                         Traceback (most recent call last)",
      "Cell \u001b[0;32mIn[13], line 19\u001b[0m\n\u001b[1;32m     17\u001b[0m     \u001b[38;5;28;01mif\u001b[39;00m i \u001b[38;5;241m%\u001b[39m DOWNLOADING_SAVE_PERIOD \u001b[38;5;241m==\u001b[39m \u001b[38;5;241m0\u001b[39m:\n\u001b[1;32m     18\u001b[0m         save_metadata()\n\u001b[0;32m---> 19\u001b[0m     sleep(\u001b[38;5;241m1\u001b[39m)\n\u001b[1;32m     20\u001b[0m \u001b[38;5;28;01mexcept\u001b[39;00m \u001b[38;5;167;01mException\u001b[39;00m \u001b[38;5;28;01mas\u001b[39;00m er:\n\u001b[1;32m     21\u001b[0m     \u001b[38;5;28mprint\u001b[39m(\u001b[38;5;124mf\u001b[39m\u001b[38;5;124m'\u001b[39m\u001b[38;5;124mFailed to download \u001b[39m\u001b[38;5;132;01m{\u001b[39;00m\u001b[38;5;28mid\u001b[39m\u001b[38;5;132;01m}\u001b[39;00m\u001b[38;5;124m image - \u001b[39m\u001b[38;5;132;01m{\u001b[39;00mer\u001b[38;5;132;01m}\u001b[39;00m\u001b[38;5;124m!\u001b[39m\u001b[38;5;124m'\u001b[39m)\n",
      "\u001b[0;31mKeyboardInterrupt\u001b[0m: "
     ]
    }
   ],
   "source": [
    "with tqdm(total=DATASET_IMAGES_LIMIT) as pbar:\n",
    "    for i, id in enumerate(to_download):\n",
    "        if len(image_path_cache) >= DATASET_IMAGES_LIMIT:\n",
    "            break\n",
    "        try:\n",
    "            obj = main_metadata[id]\n",
    "            image_data = images[id]\n",
    "            image_id = image_data['id']\n",
    "            if image_id not in image_path_cache:\n",
    "                path = os.path.join(RAW_IMAGE_DIRECTORY, f'{DATASET_NAME}_{id}.jpg')\n",
    "                download_image(f'{BASE_URL}{image_id}/full/{IMAGE_WIDTH},/0/default.jpg', path)\n",
    "                image_path_cache[image_id] = path\n",
    "            else:\n",
    "                path = image_path_cache[image_id]\n",
    "            obj['path'] = path\n",
    "            existing_metadata[id] = obj\n",
    "            if i % DOWNLOADING_SAVE_PERIOD == 0:\n",
    "                save_metadata()\n",
    "            sleep(1)\n",
    "        except Exception as er:\n",
    "            print(f'Failed to download {id} image - {er}!')\n",
    "        pbar.update(len(image_path_cache) - pbar.n)"
   ]
  },
  {
   "cell_type": "code",
   "execution_count": null,
   "id": "984ca28f-8f40-4d0f-ab47-5527a42b4e7e",
   "metadata": {},
   "outputs": [],
   "source": []
  }
 ],
 "metadata": {
  "kernelspec": {
   "display_name": "Python 3 (ipykernel)",
   "language": "python",
   "name": "python3"
  },
  "language_info": {
   "codemirror_mode": {
    "name": "ipython",
    "version": 3
   },
   "file_extension": ".py",
   "mimetype": "text/x-python",
   "name": "python",
   "nbconvert_exporter": "python",
   "pygments_lexer": "ipython3",
   "version": "3.11.6"
  }
 },
 "nbformat": 4,
 "nbformat_minor": 5
}
