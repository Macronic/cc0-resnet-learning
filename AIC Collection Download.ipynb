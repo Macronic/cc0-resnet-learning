{
 "cells": [
  {
   "cell_type": "markdown",
   "id": "89638815-254c-4680-8a74-57808cbc8fac",
   "metadata": {},
   "source": [
    "# Downloading Dataset from The Art Institute of Chicago\n",
    "This museum is also sharing an art collection dataset with some CC0 license, what we can use to train our CC0 ResNet backbone for other projects!\n",
    "Their github page: https://github.com/art-institute-of-chicago/api-data contains metadata for us to download, and they encourage for us to use it for downloading a larger dataset - exactly what we want to do. Keep in mind that this metadata weighs almost 2 GB after uncompressing.\n",
    "\n",
    "We'll be downloading them in 843 size, as supposedly, it has a large chance to result in a cache hit. In the end, we scale images to 224x224, so that quality should be enough.\n",
    "\n",
    "As requested, we wait a second before each request and we don't multithread them."
   ]
  },
  {
   "cell_type": "markdown",
   "id": "23038bd8-6773-4b4a-8913-8b155fd915cc",
   "metadata": {},
   "source": [
    "### Constants and imports"
   ]
  },
  {
   "cell_type": "code",
   "execution_count": 9,
   "id": "8a49c732-1bf5-4a8c-b69c-504eac0442ab",
   "metadata": {},
   "outputs": [],
   "source": [
    "import requests\n",
    "import os\n",
    "import random\n",
    "import json\n",
    "from tqdm.notebook import tqdm\n",
    "import pandas as pd\n",
    "import shutil\n",
    "from atomicwrites import atomic_write\n",
    "\n",
    "AIC_DATA_TARBZ = 'https://artic-api-data.s3.amazonaws.com/artic-api-data.tar.bz2'\n",
    "METADATA_DIRECTORY = 'metadata'\n",
    "DATASET_NAME = 'aic'\n",
    "RAW_METADATA_DIRECTORY = os.path.join(METADATA_DIRECTORY, 'raw')\n",
    "RAW_METADATA_ZIPPED_FILENAME = os.path.join(RAW_METADATA_DIRECTORY, 'aic.tar.bz2')\n",
    "RAW_METADATA_UNZIP_LOCATION = os.path.join(RAW_METADATA_DIRECTORY, f'{DATASET_NAME}')\n",
    "RAW_IMAGE_DIRECTORY = os.path.join('dataset', 'raw')\n",
    "DATASET_IMAGES_LIMIT = 70000\n",
    "DOWNLOADING_SAVE_PERIOD = 5"
   ]
  },
  {
   "cell_type": "markdown",
   "id": "4f7ed24a-566c-4791-880a-81550a79b9df",
   "metadata": {},
   "source": [
    "### Preparing directories"
   ]
  },
  {
   "cell_type": "code",
   "execution_count": 5,
   "id": "87731522-b2a3-4592-8052-7a334aa97fd6",
   "metadata": {},
   "outputs": [],
   "source": [
    " \n",
    "if not os.path.exists(RAW_METADATA_DIRECTORY):\n",
    "    os.makedirs(RAW_METADATA_DIRECTORY)\n"
   ]
  },
  {
   "cell_type": "markdown",
   "id": "d32c0227-cc5d-4589-9b48-990daaf49fd6",
   "metadata": {},
   "source": [
    "### Downloading the compressed file onto the disk"
   ]
  },
  {
   "cell_type": "code",
   "execution_count": 6,
   "id": "9deb54a6-e508-469d-a78d-09ae3f877b42",
   "metadata": {},
   "outputs": [],
   "source": [
    "\n",
    "if not os.path.exists(RAW_METADATA_ZIPPED_FILENAME):\n",
    "    metadata_data = requests.get(AIC_DATA_TARBZ, stream=True)\n",
    "    if metadata_data.status_code == 200:\n",
    "        with open(RAW_METADATA_ZIPPED_FILENAME, 'wb') as f:\n",
    "            for chunk in metadata_data.iter_content(2048):\n",
    "                f.write(chunk)\n"
   ]
  },
  {
   "cell_type": "markdown",
   "id": "c75dde2c-0001-4384-84d9-c86f9f4b2992",
   "metadata": {},
   "source": [
    "### Unzipping the compressed file"
   ]
  },
  {
   "cell_type": "code",
   "execution_count": 10,
   "id": "36889fda-9a16-4e7b-8b56-c3e544baa712",
   "metadata": {},
   "outputs": [],
   "source": [
    "if not os.path.exists(RAW_METADATA_UNZIP_LOCATION) or (os.listdir(RAW_METADATA_UNZIP_LOCATION)) == 0:\n",
    "    shutil.unpack_archive(RAW_METADATA_ZIPPED_FILENAME, RAW_METADATA_UNZIP_LOCATION)"
   ]
  },
  {
   "cell_type": "code",
   "execution_count": null,
   "id": "9b2a7364-e7bc-41d1-ab93-0e6f6a424a72",
   "metadata": {},
   "outputs": [],
   "source": []
  }
 ],
 "metadata": {
  "kernelspec": {
   "display_name": "Python 3 (ipykernel)",
   "language": "python",
   "name": "python3"
  },
  "language_info": {
   "codemirror_mode": {
    "name": "ipython",
    "version": 3
   },
   "file_extension": ".py",
   "mimetype": "text/x-python",
   "name": "python",
   "nbconvert_exporter": "python",
   "pygments_lexer": "ipython3",
   "version": "3.11.6"
  }
 },
 "nbformat": 4,
 "nbformat_minor": 5
}
