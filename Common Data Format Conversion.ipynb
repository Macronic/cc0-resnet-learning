{
 "cells": [
  {
   "cell_type": "markdown",
   "id": "98e94dde-790d-444a-9d4c-1965ea72d147",
   "metadata": {},
   "source": [
    "# Common Data Format Conversion\n",
    "Every of our datasources keep their metadata in different formats and have different sets of parameters. In this notebook, we'll join them all into a proper .csv file for the future data processing and learning."
   ]
  },
  {
   "cell_type": "markdown",
   "id": "912e1dc7-13bd-4569-96e5-a7272e88c023",
   "metadata": {},
   "source": [
    "### Constants and imports"
   ]
  },
  {
   "cell_type": "code",
   "execution_count": 7,
   "id": "6c237a6e-39e3-4948-8fab-be354efb14b1",
   "metadata": {},
   "outputs": [],
   "source": [
    "import pandas as pd\n",
    "import json\n",
    "import os\n",
    "\n",
    "METADATA_DIRECTORY = 'metadata'\n",
    "CMA_METADATA_FILE = os.path.join(METADATA_DIRECTORY, 'cma.json')\n",
    "MET_METADATA_FILE = os.path.join(METADATA_DIRECTORY, 'met.json')\n",
    "NGA_METADATA_FILE = os.path.join(METADATA_DIRECTORY, 'nga.json')\n",
    "RESULT_METADATA_FILE = os.path.join(METADATA_DIRECTORY, 'metadata_joined.csv')"
   ]
  },
  {
   "cell_type": "markdown",
   "id": "3cac2faf-4af5-49e8-8bfc-b558948badf2",
   "metadata": {},
   "source": [
    "### Preparing output dataframe"
   ]
  },
  {
   "cell_type": "code",
   "execution_count": 12,
   "id": "26892784-eab6-4d9d-b392-f45979843921",
   "metadata": {},
   "outputs": [],
   "source": [
    "result = pd.DataFrame()"
   ]
  },
  {
   "cell_type": "markdown",
   "id": "48b95cf7-8bce-4ace-9e4d-b183d6cb2850",
   "metadata": {},
   "source": [
    "### Loading CMA data"
   ]
  },
  {
   "cell_type": "code",
   "execution_count": 13,
   "id": "874cb140-5341-4a8d-ae1a-e374f72576f7",
   "metadata": {},
   "outputs": [],
   "source": [
    "if os.path.exists(CMA_METADATA_FILE):\n",
    "    with open(CMA_METADATA_FILE, 'r') as f:\n",
    "        cma_metadata = json.load(f)"
   ]
  },
  {
   "cell_type": "code",
   "execution_count": 14,
   "id": "cb703a16-a379-470c-9bc0-b8ac74d93ef2",
   "metadata": {},
   "outputs": [],
   "source": [
    "if cma_metadata is not None:\n",
    "    rows = []\n",
    "    for art_id in cma_metadata:\n",
    "        row = {}\n",
    "        metadata = cma_metadata[art_id]\n",
    "        row['id'] = f'cma_{art_id}'\n",
    "        row['title'] = metadata['title']\n",
    "        row['date'] = metadata['creation_date']\n",
    "        row['begin_date'] = None\n",
    "        row['end_date'] = None\n",
    "        row['culture'] = metadata['culture']\n",
    "        row['technique'] = metadata['technique']\n",
    "        row['type'] = metadata['type']\n",
    "        row['department'] = metadata['department']\n",
    "        row['collection'] = metadata['collection']\n",
    "        row['path'] = metadata['path']\n",
    "        rows.append(row)\n",
    "        \n",
    "    df_cma = pd.DataFrame(rows)\n",
    "    result = pd.concat([result, df_cma], ignore_index=True)"
   ]
  },
  {
   "cell_type": "code",
   "execution_count": 15,
   "id": "b144f31e-e9b8-4aa0-9a40-72bd69f83475",
   "metadata": {},
   "outputs": [
    {
     "data": {
      "text/html": [
       "<div>\n",
       "<style scoped>\n",
       "    .dataframe tbody tr th:only-of-type {\n",
       "        vertical-align: middle;\n",
       "    }\n",
       "\n",
       "    .dataframe tbody tr th {\n",
       "        vertical-align: top;\n",
       "    }\n",
       "\n",
       "    .dataframe thead th {\n",
       "        text-align: right;\n",
       "    }\n",
       "</style>\n",
       "<table border=\"1\" class=\"dataframe\">\n",
       "  <thead>\n",
       "    <tr style=\"text-align: right;\">\n",
       "      <th></th>\n",
       "      <th>id</th>\n",
       "      <th>title</th>\n",
       "      <th>date</th>\n",
       "      <th>culture</th>\n",
       "      <th>technique</th>\n",
       "      <th>type</th>\n",
       "      <th>department</th>\n",
       "      <th>collection</th>\n",
       "      <th>path</th>\n",
       "    </tr>\n",
       "  </thead>\n",
       "  <tbody>\n",
       "    <tr>\n",
       "      <th>count</th>\n",
       "      <td>29745</td>\n",
       "      <td>29745</td>\n",
       "      <td>28507</td>\n",
       "      <td>29745</td>\n",
       "      <td>29470</td>\n",
       "      <td>29745</td>\n",
       "      <td>29745</td>\n",
       "      <td>29745</td>\n",
       "      <td>29745</td>\n",
       "    </tr>\n",
       "    <tr>\n",
       "      <th>unique</th>\n",
       "      <td>29745</td>\n",
       "      <td>21530</td>\n",
       "      <td>4656</td>\n",
       "      <td>4105</td>\n",
       "      <td>5976</td>\n",
       "      <td>61</td>\n",
       "      <td>19</td>\n",
       "      <td>161</td>\n",
       "      <td>29745</td>\n",
       "    </tr>\n",
       "    <tr>\n",
       "      <th>top</th>\n",
       "      <td>cma_122190</td>\n",
       "      <td>Page from Tales of a Parrot (Tuti-nama): text ...</td>\n",
       "      <td>1800s</td>\n",
       "      <td>France, 19th century</td>\n",
       "      <td>etching</td>\n",
       "      <td>Print</td>\n",
       "      <td>Prints</td>\n",
       "      <td>PR - Etching</td>\n",
       "      <td>dataset/raw/cma_122190.jpg</td>\n",
       "    </tr>\n",
       "    <tr>\n",
       "      <th>freq</th>\n",
       "      <td>1</td>\n",
       "      <td>335</td>\n",
       "      <td>839</td>\n",
       "      <td>2807</td>\n",
       "      <td>1978</td>\n",
       "      <td>7808</td>\n",
       "      <td>7670</td>\n",
       "      <td>2870</td>\n",
       "      <td>1</td>\n",
       "    </tr>\n",
       "  </tbody>\n",
       "</table>\n",
       "</div>"
      ],
      "text/plain": [
       "                id                                              title   date  \\\n",
       "count        29745                                              29745  28507   \n",
       "unique       29745                                              21530   4656   \n",
       "top     cma_122190  Page from Tales of a Parrot (Tuti-nama): text ...  1800s   \n",
       "freq             1                                                335    839   \n",
       "\n",
       "                     culture technique   type department    collection  \\\n",
       "count                  29745     29470  29745      29745         29745   \n",
       "unique                  4105      5976     61         19           161   \n",
       "top     France, 19th century   etching  Print     Prints  PR - Etching   \n",
       "freq                    2807      1978   7808       7670          2870   \n",
       "\n",
       "                              path  \n",
       "count                        29745  \n",
       "unique                       29745  \n",
       "top     dataset/raw/cma_122190.jpg  \n",
       "freq                             1  "
      ]
     },
     "execution_count": 15,
     "metadata": {},
     "output_type": "execute_result"
    }
   ],
   "source": [
    "result.describe()"
   ]
  },
  {
   "cell_type": "markdown",
   "id": "ca8349af-ab1f-47b1-a188-a265201236f0",
   "metadata": {},
   "source": [
    "### Loading MET data"
   ]
  },
  {
   "cell_type": "code",
   "execution_count": 17,
   "id": "67cbfb83-fa6b-4c1f-829d-faf8341a256f",
   "metadata": {},
   "outputs": [],
   "source": [
    "if os.path.exists(MET_METADATA_FILE):\n",
    "    with open(MET_METADATA_FILE, 'r') as f:\n",
    "        met_metadata = json.load(f)"
   ]
  },
  {
   "cell_type": "code",
   "execution_count": 21,
   "id": "28d73453-07e0-4608-aed2-23296c52671c",
   "metadata": {},
   "outputs": [],
   "source": [
    "if met_metadata is not None:\n",
    "    rows = []\n",
    "    for art_id in met_metadata:\n",
    "        row = {}\n",
    "        metadata = met_metadata[art_id]\n",
    "        if 'path' not in metadata:\n",
    "            continue\n",
    "        row['id'] = f'met_{art_id}'\n",
    "        row['title'] = metadata['objectName']\n",
    "        row['date'] = metadata['objectDate']\n",
    "        row['begin_date'] = metadata['objectBeginDate']\n",
    "        row['end_date'] = metadata['objectEndDate']\n",
    "        row['culture'] = f\"{metadata['culture']}, {metadata['period']}\"\n",
    "        row['technique'] = metadata['medium']\n",
    "        row['type'] = metadata['classification']\n",
    "        row['department'] = metadata['department']\n",
    "        row['collection'] = None\n",
    "        row['path'] = metadata['path']\n",
    "        rows.append(row)\n",
    "        \n",
    "    df_met = pd.DataFrame(rows)\n",
    "    result = pd.concat([result, df_met], ignore_index=True)"
   ]
  },
  {
   "cell_type": "code",
   "execution_count": 24,
   "id": "b81ea6f8-a929-4cbb-9e0c-54c38576b6e7",
   "metadata": {},
   "outputs": [
    {
     "data": {
      "text/html": [
       "<div>\n",
       "<style scoped>\n",
       "    .dataframe tbody tr th:only-of-type {\n",
       "        vertical-align: middle;\n",
       "    }\n",
       "\n",
       "    .dataframe tbody tr th {\n",
       "        vertical-align: top;\n",
       "    }\n",
       "\n",
       "    .dataframe thead th {\n",
       "        text-align: right;\n",
       "    }\n",
       "</style>\n",
       "<table border=\"1\" class=\"dataframe\">\n",
       "  <thead>\n",
       "    <tr style=\"text-align: right;\">\n",
       "      <th></th>\n",
       "      <th>begin_date</th>\n",
       "      <th>end_date</th>\n",
       "    </tr>\n",
       "  </thead>\n",
       "  <tbody>\n",
       "    <tr>\n",
       "      <th>count</th>\n",
       "      <td>1904.000000</td>\n",
       "      <td>1904.000000</td>\n",
       "    </tr>\n",
       "    <tr>\n",
       "      <th>mean</th>\n",
       "      <td>1076.473739</td>\n",
       "      <td>1209.426471</td>\n",
       "    </tr>\n",
       "    <tr>\n",
       "      <th>std</th>\n",
       "      <td>1275.867259</td>\n",
       "      <td>1042.845564</td>\n",
       "    </tr>\n",
       "    <tr>\n",
       "      <th>min</th>\n",
       "      <td>-7000.000000</td>\n",
       "      <td>-5000.000000</td>\n",
       "    </tr>\n",
       "    <tr>\n",
       "      <th>25%</th>\n",
       "      <td>800.000000</td>\n",
       "      <td>999.750000</td>\n",
       "    </tr>\n",
       "    <tr>\n",
       "      <th>50%</th>\n",
       "      <td>1700.000000</td>\n",
       "      <td>1733.500000</td>\n",
       "    </tr>\n",
       "    <tr>\n",
       "      <th>75%</th>\n",
       "      <td>1814.250000</td>\n",
       "      <td>1860.250000</td>\n",
       "    </tr>\n",
       "    <tr>\n",
       "      <th>max</th>\n",
       "      <td>1935.000000</td>\n",
       "      <td>1999.000000</td>\n",
       "    </tr>\n",
       "  </tbody>\n",
       "</table>\n",
       "</div>"
      ],
      "text/plain": [
       "        begin_date     end_date\n",
       "count  1904.000000  1904.000000\n",
       "mean   1076.473739  1209.426471\n",
       "std    1275.867259  1042.845564\n",
       "min   -7000.000000 -5000.000000\n",
       "25%     800.000000   999.750000\n",
       "50%    1700.000000  1733.500000\n",
       "75%    1814.250000  1860.250000\n",
       "max    1935.000000  1999.000000"
      ]
     },
     "execution_count": 24,
     "metadata": {},
     "output_type": "execute_result"
    }
   ],
   "source": [
    "result.describe()"
   ]
  },
  {
   "cell_type": "markdown",
   "id": "a00e47b6-0294-4776-aba9-f95cf4e0a12f",
   "metadata": {},
   "source": [
    "### Loading NGA data"
   ]
  },
  {
   "cell_type": "code",
   "execution_count": null,
   "id": "092d95af-c192-4e4b-b96b-33a63984bcfa",
   "metadata": {},
   "outputs": [],
   "source": []
  },
  {
   "cell_type": "markdown",
   "id": "799627ac-e85b-4160-b7c6-4f911fd639f9",
   "metadata": {},
   "source": [
    "### Saving the .csv file"
   ]
  },
  {
   "cell_type": "code",
   "execution_count": null,
   "id": "034c4ee5-28c6-4c02-9fe0-e3f6b1961aa7",
   "metadata": {},
   "outputs": [],
   "source": []
  }
 ],
 "metadata": {
  "kernelspec": {
   "display_name": "Python 3 (ipykernel)",
   "language": "python",
   "name": "python3"
  },
  "language_info": {
   "codemirror_mode": {
    "name": "ipython",
    "version": 3
   },
   "file_extension": ".py",
   "mimetype": "text/x-python",
   "name": "python",
   "nbconvert_exporter": "python",
   "pygments_lexer": "ipython3",
   "version": "3.11.6"
  }
 },
 "nbformat": 4,
 "nbformat_minor": 5
}
