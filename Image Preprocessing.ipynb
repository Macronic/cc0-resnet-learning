{
 "cells": [
  {
   "cell_type": "markdown",
   "id": "e93ac580-046d-4d09-b361-9bd834bc7b17",
   "metadata": {},
   "source": [
    "# Image preprocessing\n",
    "Optionally, we can resize all the images, getting them ready for learning to make the epochs go much faster."
   ]
  },
  {
   "cell_type": "code",
   "execution_count": 5,
   "id": "b73fa15b-0072-4bed-81e1-e93c26216a6b",
   "metadata": {},
   "outputs": [],
   "source": [
    "import os\n",
    "import torch\n",
    "import pandas as pd\n",
    "from tqdm.notebook import tqdm\n",
    "from torchvision import transforms, utils\n",
    "from torchvision.io import read_image\n",
    "from torchvision.utils import save_image\n",
    "from torchvision.transforms import v2\n",
    "\n",
    "METADATA_DIRECTORY = 'metadata'\n",
    "DATASET_RAW_FILE = os.path.join(METADATA_DIRECTORY, 'dataset.csv')\n",
    "OUTPUT_FILE = os.path.join(METADATA_DIRECTORY, 'dataset-preprocessed.csv')\n",
    "DATASET_DIRECTORY = 'dataset'\n",
    "PREPROCESSED_DIRECTORY = os.path.join(DATASET_DIRECTORY, 'preprocessed')"
   ]
  },
  {
   "cell_type": "markdown",
   "id": "827ab219-b057-485e-9094-4c6aa6bcde39",
   "metadata": {},
   "source": [
    "### Prepare directory"
   ]
  },
  {
   "cell_type": "code",
   "execution_count": 6,
   "id": "ba5c6616-fa10-439a-a605-056db5d1cf28",
   "metadata": {},
   "outputs": [],
   "source": [
    "if not os.path.exists(PREPROCESSED_DIRECTORY):\n",
    "    os.makedirs(PREPROCESSED_DIRECTORY)"
   ]
  },
  {
   "cell_type": "markdown",
   "id": "e1794c43-04e8-4b73-8f52-07c0bcbfed43",
   "metadata": {},
   "source": [
    "### Load dataset .csv"
   ]
  },
  {
   "cell_type": "code",
   "execution_count": 7,
   "id": "7c5f6cfd-0ca8-4cf2-92cb-8d10c4e8df41",
   "metadata": {},
   "outputs": [],
   "source": [
    "df = pd.read_csv(DATASET_RAW_FILE)\n"
   ]
  },
  {
   "cell_type": "markdown",
   "id": "54253042-019e-438f-b0d4-fa587eb99c00",
   "metadata": {},
   "source": [
    "### Load images, resize and save"
   ]
  },
  {
   "cell_type": "code",
   "execution_count": 16,
   "id": "cc532339-51fb-43e6-acd6-1d3f5118f560",
   "metadata": {},
   "outputs": [],
   "source": [
    "resize_transform = v2.Compose([\n",
    "    v2.Resize(size=(224, 224)),\n",
    "    v2.ToDtype(torch.float32, scale=True)\n",
    "])\n",
    "\n",
    "def resize_image(path):\n",
    "    new_path = os.path.join(PREPROCESSED_DIRECTORY, os.path.basename(path))\n",
    "    if not os.path.exists(new_path):\n",
    "        image = read_image(path)\n",
    "        image = resize_transform(image)\n",
    "        if image.shape[0] == 4:\n",
    "            image = image[1:4]\n",
    "        save_image(image, new_path)\n",
    "    return new_path"
   ]
  },
  {
   "cell_type": "code",
   "execution_count": 17,
   "id": "00aaa9f6-d47f-44ab-977b-00cd9c5e03fb",
   "metadata": {},
   "outputs": [
    {
     "data": {
      "application/vnd.jupyter.widget-view+json": {
       "model_id": "7984df36e701480eb10709aa382661ac",
       "version_major": 2,
       "version_minor": 0
      },
      "text/plain": [
       "  0%|          | 0/125287 [00:00<?, ?it/s]"
      ]
     },
     "metadata": {},
     "output_type": "display_data"
    },
    {
     "name": "stderr",
     "output_type": "stream",
     "text": [
      "Corrupt JPEG data: 32765 extraneous bytes before marker 0xd9\n"
     ]
    }
   ],
   "source": [
    "tqdm.pandas()\n",
    "\n",
    "df['path'] = df['path'].progress_map(resize_image)"
   ]
  },
  {
   "cell_type": "markdown",
   "id": "1e2c7361-f3e6-478e-abd6-655ccc1dc1ea",
   "metadata": {},
   "source": [
    "### Save dataset .csv"
   ]
  },
  {
   "cell_type": "code",
   "execution_count": 18,
   "id": "3d184a0d-4dda-41dd-93e4-b762a9a13172",
   "metadata": {},
   "outputs": [],
   "source": [
    "df.to_csv(OUTPUT_FILE)"
   ]
  },
  {
   "cell_type": "code",
   "execution_count": null,
   "id": "5e384c4d-4c20-4415-8876-fad536b87491",
   "metadata": {},
   "outputs": [],
   "source": []
  }
 ],
 "metadata": {
  "kernelspec": {
   "display_name": "Python 3 (ipykernel)",
   "language": "python",
   "name": "python3"
  },
  "language_info": {
   "codemirror_mode": {
    "name": "ipython",
    "version": 3
   },
   "file_extension": ".py",
   "mimetype": "text/x-python",
   "name": "python",
   "nbconvert_exporter": "python",
   "pygments_lexer": "ipython3",
   "version": "3.11.6"
  }
 },
 "nbformat": 4,
 "nbformat_minor": 5
}
