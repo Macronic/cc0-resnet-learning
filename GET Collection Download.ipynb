{
 "cells": [
  {
   "cell_type": "markdown",
   "id": "137b5474-34a9-4580-9da1-2845a38ddc10",
   "metadata": {},
   "source": [
    "# J. Paul Getty Museum Collection Download\n",
    "The museum is sharing an art collection dataset with some CC0 license, what we can use to train our CC0 ResNet backbone for other projects!\n",
    "Their docs page: https://data.getty.edu/museum/collection/docs/ contains documentation how to download the images from their API.\n",
    "We can use the image as long as it has a valid '\"id\": \"https://creativecommons.org/publicdomain/zero/1.0/\"' field in its data, what we will filter on. The dataset may contain up to 80000 images, and we will need a lot of that to train a ResNet backbone that would have transferable knowledge."
   ]
  },
  {
   "cell_type": "markdown",
   "id": "2969e9ce-eba1-4354-b7d9-b7142f855395",
   "metadata": {},
   "source": [
    "### Constants and imports"
   ]
  },
  {
   "cell_type": "code",
   "execution_count": null,
   "id": "d05091c7-2b58-4635-a6c8-a36c56cfd235",
   "metadata": {},
   "outputs": [],
   "source": [
    "import requests\n",
    "import os\n",
    "import random\n",
    "import json\n",
    "from tqdm.notebook import tqdm\n",
    "import pandas as pd\n",
    "from atomicwrites import atomic_write\n",
    "\n",
    "CMA_GITHUB_DATA_CSV = 'https://github.com/ClevelandMuseumArt/openaccess/raw/master/data.csv'\n",
    "METADATA_DIRECTORY = 'metadata'\n",
    "DATASET_NAME = 'get'\n",
    "RAW_METADATA_DIRECTORY = os.path.join(METADATA_DIRECTORY, 'raw')\n",
    "RAW_METADATA_DIRECTORY_FILENAME = os.path.join(RAW_METADATA_DIRECTORY, f'{DATASET_NAME}.csv')\n",
    "RAW_IMAGE_DIRECTORY = os.path.join('dataset', 'raw')\n",
    "DATASET_IMAGES_LIMIT = 70000\n",
    "DOWNLOADING_SAVE_PERIOD = 5"
   ]
  },
  {
   "cell_type": "code",
   "execution_count": null,
   "id": "db10c1af-4b81-4b96-9dcc-8c7f7221b6a4",
   "metadata": {},
   "outputs": [],
   "source": [
    "PREFIX http: <http://www.w3.org/2011/http#>\n",
    "PREFIX rdf: <http://www.w3.org/1999/02/22-rdf-syntax-ns#>\n",
    "PREFIX rdfs: <http://www.w3.org/2000/01/rdf-schema#>\n",
    "SELECT DISTINCT ?type WHERE {\n",
    "  ?sub rdf:type ?type .\n",
    "} LIMIT 30"
   ]
  }
 ],
 "metadata": {
  "kernelspec": {
   "display_name": "Python 3 (ipykernel)",
   "language": "python",
   "name": "python3"
  },
  "language_info": {
   "codemirror_mode": {
    "name": "ipython",
    "version": 3
   },
   "file_extension": ".py",
   "mimetype": "text/x-python",
   "name": "python",
   "nbconvert_exporter": "python",
   "pygments_lexer": "ipython3",
   "version": "3.11.6"
  }
 },
 "nbformat": 4,
 "nbformat_minor": 5
}
